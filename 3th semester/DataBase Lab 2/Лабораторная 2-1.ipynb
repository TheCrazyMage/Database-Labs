{
 "cells": [
  {
   "cell_type": "code",
   "execution_count": 2,
   "metadata": {},
   "outputs": [
    {
     "data": {
      "text/plain": [
       "'Connected: @chinook.db'"
      ]
     },
     "execution_count": 2,
     "metadata": {},
     "output_type": "execute_result"
    }
   ],
   "source": [
    "%load_ext sql\n",
    "%sql sqlite:///chinook.db"
   ]
  },
  {
   "cell_type": "markdown",
   "metadata": {},
   "source": [
    "# Задание 1\n",
    "\n",
    "Вывести 10 самых больших по размеру треков жанра ROCK и формата MPEG (исоп"
   ]
  },
  {
   "cell_type": "code",
   "execution_count": 3,
   "metadata": {},
   "outputs": [
    {
     "name": "stdout",
     "output_type": "stream",
     "text": [
      " * sqlite:///chinook.db\n",
      "Done.\n"
     ]
    },
    {
     "data": {
      "text/html": [
       "<table>\n",
       "    <tr>\n",
       "        <th>TrackId</th>\n",
       "        <th>Name</th>\n",
       "        <th>AlbumId</th>\n",
       "        <th>MediaTypeId</th>\n",
       "        <th>GenreId</th>\n",
       "        <th>Composer</th>\n",
       "        <th>Milliseconds</th>\n",
       "        <th>Bytes</th>\n",
       "        <th>UnitPrice</th>\n",
       "        <th>GenreId_1</th>\n",
       "        <th>Name_1</th>\n",
       "    </tr>\n",
       "    <tr>\n",
       "        <td>1666</td>\n",
       "        <td>Dazed And Confused</td>\n",
       "        <td>137</td>\n",
       "        <td>1</td>\n",
       "        <td>1</td>\n",
       "        <td>Jimmy Page</td>\n",
       "        <td>1612329</td>\n",
       "        <td>52490554</td>\n",
       "        <td>0.99</td>\n",
       "        <td>1</td>\n",
       "        <td>Rock</td>\n",
       "    </tr>\n",
       "    <tr>\n",
       "        <td>620</td>\n",
       "        <td>Space Truckin&#x27;</td>\n",
       "        <td>50</td>\n",
       "        <td>1</td>\n",
       "        <td>1</td>\n",
       "        <td>Blackmore/Gillan/Glover/Lord/Paice</td>\n",
       "        <td>1196094</td>\n",
       "        <td>39267613</td>\n",
       "        <td>0.99</td>\n",
       "        <td>1</td>\n",
       "        <td>Rock</td>\n",
       "    </tr>\n",
       "    <tr>\n",
       "        <td>1581</td>\n",
       "        <td>Dazed And Confused</td>\n",
       "        <td>127</td>\n",
       "        <td>1</td>\n",
       "        <td>1</td>\n",
       "        <td>Jimmy Page/Led Zeppelin</td>\n",
       "        <td>1116734</td>\n",
       "        <td>36052247</td>\n",
       "        <td>0.99</td>\n",
       "        <td>1</td>\n",
       "        <td>Rock</td>\n",
       "    </tr>\n",
       "    <tr>\n",
       "        <td>2429</td>\n",
       "        <td>We&#x27;ve Got To Get Together/Jingo</td>\n",
       "        <td>198</td>\n",
       "        <td>1</td>\n",
       "        <td>1</td>\n",
       "        <td>None</td>\n",
       "        <td>1070027</td>\n",
       "        <td>34618222</td>\n",
       "        <td>0.99</td>\n",
       "        <td>1</td>\n",
       "        <td>Rock</td>\n",
       "    </tr>\n",
       "    <tr>\n",
       "        <td>2432</td>\n",
       "        <td>Funky Piano</td>\n",
       "        <td>198</td>\n",
       "        <td>1</td>\n",
       "        <td>1</td>\n",
       "        <td>None</td>\n",
       "        <td>934791</td>\n",
       "        <td>30200730</td>\n",
       "        <td>0.99</td>\n",
       "        <td>1</td>\n",
       "        <td>Rock</td>\n",
       "    </tr>\n",
       "    <tr>\n",
       "        <td>621</td>\n",
       "        <td>Going Down / Highway Star</td>\n",
       "        <td>50</td>\n",
       "        <td>1</td>\n",
       "        <td>1</td>\n",
       "        <td>Gillan/Glover/Lord/Nix - Blackmore/Paice</td>\n",
       "        <td>913658</td>\n",
       "        <td>29846063</td>\n",
       "        <td>0.99</td>\n",
       "        <td>1</td>\n",
       "        <td>Rock</td>\n",
       "    </tr>\n",
       "    <tr>\n",
       "        <td>2427</td>\n",
       "        <td>Santana Jam</td>\n",
       "        <td>197</td>\n",
       "        <td>1</td>\n",
       "        <td>1</td>\n",
       "        <td>Carlos Santana</td>\n",
       "        <td>882834</td>\n",
       "        <td>29207100</td>\n",
       "        <td>0.99</td>\n",
       "        <td>1</td>\n",
       "        <td>Rock</td>\n",
       "    </tr>\n",
       "    <tr>\n",
       "        <td>2565</td>\n",
       "        <td>The Sun Road</td>\n",
       "        <td>208</td>\n",
       "        <td>1</td>\n",
       "        <td>1</td>\n",
       "        <td>Terry Bozzio, Steve Stevens, Tony Levin</td>\n",
       "        <td>880640</td>\n",
       "        <td>29008407</td>\n",
       "        <td>0.99</td>\n",
       "        <td>1</td>\n",
       "        <td>Rock</td>\n",
       "    </tr>\n",
       "    <tr>\n",
       "        <td>1670</td>\n",
       "        <td>Whole Lotta Love</td>\n",
       "        <td>138</td>\n",
       "        <td>1</td>\n",
       "        <td>1</td>\n",
       "        <td>John Bonham/John Paul Jones/Robert Plant/Willie Dixon</td>\n",
       "        <td>863895</td>\n",
       "        <td>28191437</td>\n",
       "        <td>0.99</td>\n",
       "        <td>1</td>\n",
       "        <td>Rock</td>\n",
       "    </tr>\n",
       "    <tr>\n",
       "        <td>622</td>\n",
       "        <td>Mistreated (Alternate Version)</td>\n",
       "        <td>50</td>\n",
       "        <td>1</td>\n",
       "        <td>1</td>\n",
       "        <td>Blackmore/Coverdale</td>\n",
       "        <td>854700</td>\n",
       "        <td>27775442</td>\n",
       "        <td>0.99</td>\n",
       "        <td>1</td>\n",
       "        <td>Rock</td>\n",
       "    </tr>\n",
       "</table>"
      ],
      "text/plain": [
       "[(1666, 'Dazed And Confused', 137, 1, 1, 'Jimmy Page', 1612329, 52490554, 0.99, 1, 'Rock'),\n",
       " (620, \"Space Truckin'\", 50, 1, 1, 'Blackmore/Gillan/Glover/Lord/Paice', 1196094, 39267613, 0.99, 1, 'Rock'),\n",
       " (1581, 'Dazed And Confused', 127, 1, 1, 'Jimmy Page/Led Zeppelin', 1116734, 36052247, 0.99, 1, 'Rock'),\n",
       " (2429, \"We've Got To Get Together/Jingo\", 198, 1, 1, None, 1070027, 34618222, 0.99, 1, 'Rock'),\n",
       " (2432, 'Funky Piano', 198, 1, 1, None, 934791, 30200730, 0.99, 1, 'Rock'),\n",
       " (621, 'Going Down / Highway Star', 50, 1, 1, 'Gillan/Glover/Lord/Nix - Blackmore/Paice', 913658, 29846063, 0.99, 1, 'Rock'),\n",
       " (2427, 'Santana Jam', 197, 1, 1, 'Carlos Santana', 882834, 29207100, 0.99, 1, 'Rock'),\n",
       " (2565, 'The Sun Road', 208, 1, 1, 'Terry Bozzio, Steve Stevens, Tony Levin', 880640, 29008407, 0.99, 1, 'Rock'),\n",
       " (1670, 'Whole Lotta Love', 138, 1, 1, 'John Bonham/John Paul Jones/Robert Plant/Willie Dixon', 863895, 28191437, 0.99, 1, 'Rock'),\n",
       " (622, 'Mistreated (Alternate Version)', 50, 1, 1, 'Blackmore/Coverdale', 854700, 27775442, 0.99, 1, 'Rock')]"
      ]
     },
     "execution_count": 3,
     "metadata": {},
     "output_type": "execute_result"
    }
   ],
   "source": [
    "%%sql\n",
    "SELECT *\n",
    "FROM tracks as t \n",
    "JOIN genres as s ON t.GenreId = s.GenreId\n",
    "WHERE s.Name like \"Rock\"\n",
    "ORDER BY t.Bytes DESC\n",
    "limit 10"
   ]
  },
  {
   "cell_type": "markdown",
   "metadata": {},
   "source": [
    "## Задание 2\n",
    "Вывести названия всех групп, их песен и названия их альбомов для всех треков жанра Рок, приобретенные сотрудниками Microsoft."
   ]
  },
  {
   "cell_type": "code",
   "execution_count": 16,
   "metadata": {},
   "outputs": [
    {
     "name": "stdout",
     "output_type": "stream",
     "text": [
      " * sqlite:///chinook.db\n",
      "Done.\n"
     ]
    },
    {
     "data": {
      "text/html": [
       "<table>\n",
       "    <tr>\n",
       "        <th>Group</th>\n",
       "        <th>Track Name</th>\n",
       "        <th>Title</th>\n",
       "        <th>Company</th>\n",
       "    </tr>\n",
       "    <tr>\n",
       "        <td>Foo Fighters</td>\n",
       "        <td>No Way Back</td>\n",
       "        <td>In Your Honor [Disc 1]</td>\n",
       "        <td>Microsoft Corporation</td>\n",
       "    </tr>\n",
       "    <tr>\n",
       "        <td>Foo Fighters</td>\n",
       "        <td>Still</td>\n",
       "        <td>In Your Honor [Disc 2]</td>\n",
       "        <td>Microsoft Corporation</td>\n",
       "    </tr>\n",
       "    <tr>\n",
       "        <td>Foo Fighters</td>\n",
       "        <td>Razor</td>\n",
       "        <td>In Your Honor [Disc 2]</td>\n",
       "        <td>Microsoft Corporation</td>\n",
       "    </tr>\n",
       "    <tr>\n",
       "        <td>Foo Fighters</td>\n",
       "        <td>My Hero</td>\n",
       "        <td>The Colour And The Shape</td>\n",
       "        <td>Microsoft Corporation</td>\n",
       "    </tr>\n",
       "    <tr>\n",
       "        <td>Guns N&#x27; Roses</td>\n",
       "        <td>Double Talkin&#x27; Jive</td>\n",
       "        <td>Use Your Illusion I</td>\n",
       "        <td>Microsoft Corporation</td>\n",
       "    </tr>\n",
       "    <tr>\n",
       "        <td>Guns N&#x27; Roses</td>\n",
       "        <td>The Garden</td>\n",
       "        <td>Use Your Illusion I</td>\n",
       "        <td>Microsoft Corporation</td>\n",
       "    </tr>\n",
       "    <tr>\n",
       "        <td>Guns N&#x27; Roses</td>\n",
       "        <td>Don&#x27;t Damn Me</td>\n",
       "        <td>Use Your Illusion I</td>\n",
       "        <td>Microsoft Corporation</td>\n",
       "    </tr>\n",
       "    <tr>\n",
       "        <td>Guns N&#x27; Roses</td>\n",
       "        <td>Dead Horse</td>\n",
       "        <td>Use Your Illusion I</td>\n",
       "        <td>Microsoft Corporation</td>\n",
       "    </tr>\n",
       "</table>"
      ],
      "text/plain": [
       "[('Foo Fighters', 'No Way Back', 'In Your Honor [Disc 1]', 'Microsoft Corporation'),\n",
       " ('Foo Fighters', 'Still', 'In Your Honor [Disc 2]', 'Microsoft Corporation'),\n",
       " ('Foo Fighters', 'Razor', 'In Your Honor [Disc 2]', 'Microsoft Corporation'),\n",
       " ('Foo Fighters', 'My Hero', 'The Colour And The Shape', 'Microsoft Corporation'),\n",
       " (\"Guns N' Roses\", \"Double Talkin' Jive\", 'Use Your Illusion I', 'Microsoft Corporation'),\n",
       " (\"Guns N' Roses\", 'The Garden', 'Use Your Illusion I', 'Microsoft Corporation'),\n",
       " (\"Guns N' Roses\", \"Don't Damn Me\", 'Use Your Illusion I', 'Microsoft Corporation'),\n",
       " (\"Guns N' Roses\", 'Dead Horse', 'Use Your Illusion I', 'Microsoft Corporation')]"
      ]
     },
     "execution_count": 16,
     "metadata": {},
     "output_type": "execute_result"
    }
   ],
   "source": [
    "%%sql\n",
    "SELECT ar.name as \"Group\", t.name as \"Track Name\", al.title, c.Company\n",
    "FROM customers as c\n",
    "JOIN invoices as i ON c.CustomerId = i.CustomerId\n",
    "JOIN invoice_items as it ON i.InvoiceId = it.InvoiceId\n",
    "JOIN tracks as t ON it.TrackId = t.TrackId\n",
    "JOIN albums as al ON t.AlbumId = al.AlbumId\n",
    "JOIN artists as ar ON al.ArtistId = ar.ArtistId\n",
    "JOIN genres as g ON t.GenreId = g.GenreId\n",
    "WHERE (c.Company like \"%Microsoft%\") and (g.Name = \"Rock\")"
   ]
  },
  {
   "cell_type": "markdown",
   "metadata": {},
   "source": [
    "## Задание 3\n",
    "Для каждого набора (жанр, тип медиа) вывести среднюю цену по стоимости трека и общее количество, причем вывести только те наборы, для которых все треки стоят больше 1,5$.\n"
   ]
  },
  {
   "cell_type": "code",
   "execution_count": 9,
   "metadata": {},
   "outputs": [
    {
     "name": "stdout",
     "output_type": "stream",
     "text": [
      " * sqlite:///chinook.db\n",
      "Done.\n"
     ]
    },
    {
     "data": {
      "text/html": [
       "<table>\n",
       "    <tr>\n",
       "        <th>Name</th>\n",
       "        <th>Name_1</th>\n",
       "        <th>AVG(tracks.UnitPrice)</th>\n",
       "        <th>COUNT(tracks.TrackId)</th>\n",
       "    </tr>\n",
       "    <tr>\n",
       "        <td>Science Fiction</td>\n",
       "        <td>Protected MPEG-4 video file</td>\n",
       "        <td>1.9899999999999995</td>\n",
       "        <td>13</td>\n",
       "    </tr>\n",
       "    <tr>\n",
       "        <td>TV Shows</td>\n",
       "        <td>Protected MPEG-4 video file</td>\n",
       "        <td>1.990000000000001</td>\n",
       "        <td>93</td>\n",
       "    </tr>\n",
       "    <tr>\n",
       "        <td>Sci Fi &amp; Fantasy</td>\n",
       "        <td>Protected MPEG-4 video file</td>\n",
       "        <td>1.9900000000000004</td>\n",
       "        <td>26</td>\n",
       "    </tr>\n",
       "    <tr>\n",
       "        <td>Drama</td>\n",
       "        <td>Protected MPEG-4 video file</td>\n",
       "        <td>1.9899999999999978</td>\n",
       "        <td>64</td>\n",
       "    </tr>\n",
       "    <tr>\n",
       "        <td>Comedy</td>\n",
       "        <td>Protected MPEG-4 video file</td>\n",
       "        <td>1.9899999999999995</td>\n",
       "        <td>17</td>\n",
       "    </tr>\n",
       "</table>"
      ],
      "text/plain": [
       "[('Science Fiction', 'Protected MPEG-4 video file', 1.9899999999999995, 13),\n",
       " ('TV Shows', 'Protected MPEG-4 video file', 1.990000000000001, 93),\n",
       " ('Sci Fi & Fantasy', 'Protected MPEG-4 video file', 1.9900000000000004, 26),\n",
       " ('Drama', 'Protected MPEG-4 video file', 1.9899999999999978, 64),\n",
       " ('Comedy', 'Protected MPEG-4 video file', 1.9899999999999995, 17)]"
      ]
     },
     "execution_count": 9,
     "metadata": {},
     "output_type": "execute_result"
    }
   ],
   "source": [
    "%%sql\n",
    "SELECT genres.Name, media_types.Name, AVG(tracks.UnitPrice), COUNT(tracks.TrackId)\n",
    "FROM tracks\n",
    "JOIN media_types ON tracks.MediatypeId = media_types.MediatypeId\n",
    "JOIN genres ON genres.GenreId = tracks.GenreId\n",
    "GROUP BY tracks.GenreId, media_types.Name, genres.Name, tracks.MediatypeId\n",
    "HAVING MIN(tracks.UnitPrice > 1.5)"
   ]
  },
  {
   "cell_type": "markdown",
   "metadata": {},
   "source": [
    "## Задание 4\n",
    "Вывести компании, сделавшие максимальное и минимальное число заказов. Необходимо исключить клиентов без компании (NULL)\n",
    "Доп задание вывести след после максимального"
   ]
  },
  {
   "cell_type": "code",
   "execution_count": 72,
   "metadata": {},
   "outputs": [
    {
     "name": "stdout",
     "output_type": "stream",
     "text": [
      " * sqlite:///chinook.db\n",
      "Done.\n"
     ]
    },
    {
     "data": {
      "text/html": [
       "<table>\n",
       "    <tr>\n",
       "        <th>company</th>\n",
       "        <th>count</th>\n",
       "    </tr>\n",
       "</table>"
      ],
      "text/plain": [
       "[]"
      ]
     },
     "execution_count": 72,
     "metadata": {},
     "output_type": "execute_result"
    }
   ],
   "source": [
    "%%sql\n",
    "\n",
    "WITH f AS(\n",
    "SELECT customers.company, COUNT(*) as count -- возвращает количество строк\n",
    "FROM customers \n",
    "JOIN invoices ON customers.CustomerId = invoices.CustomerId\n",
    "JOIN (\n",
    "SELECT MAX(count_invoices) as MAXi, MIN(count_invoices) as MINi \n",
    "FROM (\n",
    "SELECT customers.Company as company, COUNT(invoices.invoiceid) as count_invoices\n",
    "FROM customers\n",
    "JOIN invoices ON customers.CustomerId = invoices.CustomerId\n",
    "WHERE customers.Company IS NOT NULL\n",
    "GROUP BY company\n",
    ")\n",
    ")\n",
    "WHERE customers.company IS NOT NULL\n",
    "GROUP BY customers.company\n",
    "HAVING COUNT(invoices.invoiceid) < MAXi  OR COUNT(invoices.invoiceid) > MINi\n",
    ")\n",
    "\n",
    "SELECT f.company, f.count\n",
    "FROM f\n",
    "WHERE f.count = (SELECT MAX(count)\n",
    "                    FROM f) \n",
    "or f.count = (SELECT MIN(count)\n",
    "                    FROM f)\n"
   ]
  },
  {
   "cell_type": "markdown",
   "metadata": {},
   "source": [
    "## Задание 5\n",
    "Для каждой компании вывести общее количестов песен, купленных по жанру поп-музыки"
   ]
  },
  {
   "cell_type": "code",
   "execution_count": 26,
   "metadata": {},
   "outputs": [
    {
     "name": "stdout",
     "output_type": "stream",
     "text": [
      " * sqlite:///chinook.db\n",
      "Done.\n"
     ]
    },
    {
     "data": {
      "text/html": [
       "<table>\n",
       "    <tr>\n",
       "        <th>Company</th>\n",
       "        <th>sum(it.quantity)</th>\n",
       "    </tr>\n",
       "    <tr>\n",
       "        <td>Embraer - Empresa Brasileira de Aeronáutica S.A.</td>\n",
       "        <td>2</td>\n",
       "    </tr>\n",
       "    <tr>\n",
       "        <td>JetBrains s.r.o.</td>\n",
       "        <td>4</td>\n",
       "    </tr>\n",
       "</table>"
      ],
      "text/plain": [
       "[('Embraer - Empresa Brasileira de Aeronáutica S.A.', 2),\n",
       " ('JetBrains s.r.o.', 4)]"
      ]
     },
     "execution_count": 26,
     "metadata": {},
     "output_type": "execute_result"
    }
   ],
   "source": [
    "%%sql\n",
    "SELECT c.company, SUM(it.quantity)\n",
    "FROM customers as c\n",
    "JOIN invoices as i ON c.customerid = i.customerid\n",
    "JOIN invoice_items it ON i.invoiceid = it.invoiceid\n",
    "JOIN tracks t ON it.trackid = t.trackid\n",
    "JOIN genres g ON t.Genreid = g.genreid\n",
    "WHERE g.Name = 'Pop' and c.company not like 'None'\n",
    "GROUP BY c.company"
   ]
  },
  {
   "cell_type": "markdown",
   "metadata": {},
   "source": [
    "## Задание 6\n",
    "Вывести средний размер альбома в байтах."
   ]
  },
  {
   "cell_type": "code",
   "execution_count": 31,
   "metadata": {},
   "outputs": [
    {
     "name": "stdout",
     "output_type": "stream",
     "text": [
      " * sqlite:///chinook.db\n",
      "Done.\n"
     ]
    },
    {
     "data": {
      "text/html": [
       "<table>\n",
       "    <tr>\n",
       "        <th>Count</th>\n",
       "    </tr>\n",
       "    <tr>\n",
       "        <td>338288920</td>\n",
       "    </tr>\n",
       "</table>"
      ],
      "text/plain": [
       "[(338288920,)]"
      ]
     },
     "execution_count": 31,
     "metadata": {},
     "output_type": "execute_result"
    }
   ],
   "source": [
    "%%sql\n",
    "select sum(t.bytes)/(count (DISTINCT t.albumid)) as Count\n",
    "from tracks as t"
   ]
  }
 ],
 "metadata": {
  "kernelspec": {
   "display_name": "Python 3",
   "language": "python",
   "name": "python3"
  },
  "language_info": {
   "codemirror_mode": {
    "name": "ipython",
    "version": 3
   },
   "file_extension": ".py",
   "mimetype": "text/x-python",
   "name": "python",
   "nbconvert_exporter": "python",
   "pygments_lexer": "ipython3",
   "version": "3.7.3"
  }
 },
 "nbformat": 4,
 "nbformat_minor": 2
}
