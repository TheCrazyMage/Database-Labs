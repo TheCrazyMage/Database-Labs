{
 "cells": [
  {
   "cell_type": "code",
   "execution_count": 1,
   "metadata": {},
   "outputs": [
    {
     "data": {
      "text/plain": [
       "'Connected: @chinook.db'"
      ]
     },
     "execution_count": 1,
     "metadata": {},
     "output_type": "execute_result"
    }
   ],
   "source": [
    "%load_ext sql\n",
    "%sql sqlite:///chinook.db"
   ]
  },
  {
   "cell_type": "markdown",
   "metadata": {},
   "source": [
    "# Задание 1\n",
    "\n",
    "Необходимо вывести названия треков, которые были приобретены компаниями, которые обслуживаются сотрудниками, нанятыми после 1 сентября 2002 года. \n",
    "    "
   ]
  },
  {
   "cell_type": "code",
   "execution_count": 2,
   "metadata": {},
   "outputs": [
    {
     "name": "stdout",
     "output_type": "stream",
     "text": [
      " * sqlite:///chinook.db\n",
      "Done.\n"
     ]
    },
    {
     "data": {
      "text/html": [
       "<table>\n",
       "    <tr>\n",
       "        <th>Song</th>\n",
       "        <th>Company</th>\n",
       "        <th>HireDate_employee</th>\n",
       "    </tr>\n",
       "    <tr>\n",
       "        <td>Wet My Bed</td>\n",
       "        <td>JetBrains s.r.o.</td>\n",
       "        <td>2003-05-03 00:00:00</td>\n",
       "    </tr>\n",
       "    <tr>\n",
       "        <td>Crackerman</td>\n",
       "        <td>JetBrains s.r.o.</td>\n",
       "        <td>2003-05-03 00:00:00</td>\n",
       "    </tr>\n",
       "    <tr>\n",
       "        <td>#9 Dream</td>\n",
       "        <td>JetBrains s.r.o.</td>\n",
       "        <td>2003-05-03 00:00:00</td>\n",
       "    </tr>\n",
       "    <tr>\n",
       "        <td>Give Peace a Chance</td>\n",
       "        <td>JetBrains s.r.o.</td>\n",
       "        <td>2003-05-03 00:00:00</td>\n",
       "    </tr>\n",
       "    <tr>\n",
       "        <td>Whatever Gets You Thru the Night</td>\n",
       "        <td>JetBrains s.r.o.</td>\n",
       "        <td>2003-05-03 00:00:00</td>\n",
       "    </tr>\n",
       "    <tr>\n",
       "        <td>Gimme Some Truth</td>\n",
       "        <td>JetBrains s.r.o.</td>\n",
       "        <td>2003-05-03 00:00:00</td>\n",
       "    </tr>\n",
       "    <tr>\n",
       "        <td>De La Luz</td>\n",
       "        <td>JetBrains s.r.o.</td>\n",
       "        <td>2003-05-03 00:00:00</td>\n",
       "    </tr>\n",
       "    <tr>\n",
       "        <td>Surrender</td>\n",
       "        <td>JetBrains s.r.o.</td>\n",
       "        <td>2003-05-03 00:00:00</td>\n",
       "    </tr>\n",
       "    <tr>\n",
       "        <td>When Evening Falls</td>\n",
       "        <td>JetBrains s.r.o.</td>\n",
       "        <td>2003-05-03 00:00:00</td>\n",
       "    </tr>\n",
       "    <tr>\n",
       "        <td>Poprocks And Coke</td>\n",
       "        <td>JetBrains s.r.o.</td>\n",
       "        <td>2003-05-03 00:00:00</td>\n",
       "    </tr>\n",
       "</table>"
      ],
      "text/plain": [
       "[('Wet My Bed', 'JetBrains s.r.o.', '2003-05-03 00:00:00'),\n",
       " ('Crackerman', 'JetBrains s.r.o.', '2003-05-03 00:00:00'),\n",
       " ('#9 Dream', 'JetBrains s.r.o.', '2003-05-03 00:00:00'),\n",
       " ('Give Peace a Chance', 'JetBrains s.r.o.', '2003-05-03 00:00:00'),\n",
       " ('Whatever Gets You Thru the Night', 'JetBrains s.r.o.', '2003-05-03 00:00:00'),\n",
       " ('Gimme Some Truth', 'JetBrains s.r.o.', '2003-05-03 00:00:00'),\n",
       " ('De La Luz', 'JetBrains s.r.o.', '2003-05-03 00:00:00'),\n",
       " ('Surrender', 'JetBrains s.r.o.', '2003-05-03 00:00:00'),\n",
       " ('When Evening Falls', 'JetBrains s.r.o.', '2003-05-03 00:00:00'),\n",
       " ('Poprocks And Coke', 'JetBrains s.r.o.', '2003-05-03 00:00:00')]"
      ]
     },
     "execution_count": 2,
     "metadata": {},
     "output_type": "execute_result"
    }
   ],
   "source": [
    "%%sql\n",
    "SELECT DISTINCT tracks.name as Song, customers.Company as Company, employees.HireDate as HireDate_employee\n",
    "FROM invoice_items\n",
    "JOIN invoices ON invoice_items.InvoiceId = invoices.InvoiceId\n",
    "JOIN customers ON invoices.customerId = customers.customerId\n",
    "JOIN employees ON customers.SupportRepId = employees.EmployeeId\n",
    "JOIN tracks ON invoice_items.TrackId = tracks.TrackId\n",
    "WHERE employees.HireDate > '2002-09-01 0:0:0' and customers.Company IS NOT NULL\n",
    "limit 10"
   ]
  },
  {
   "cell_type": "markdown",
   "metadata": {},
   "source": [
    "## Задание 2\n",
    "Вывести общую стоимость и продолжительность каждого плейлиста."
   ]
  },
  {
   "cell_type": "code",
   "execution_count": 3,
   "metadata": {},
   "outputs": [
    {
     "name": "stdout",
     "output_type": "stream",
     "text": [
      " * sqlite:///chinook.db\n",
      "Done.\n"
     ]
    },
    {
     "data": {
      "text/html": [
       "<table>\n",
       "    <tr>\n",
       "        <th>Playlist_name</th>\n",
       "        <th>Playlist_price</th>\n",
       "        <th>Duration</th>\n",
       "    </tr>\n",
       "    <tr>\n",
       "        <td>Music</td>\n",
       "        <td>3257.0999999997507</td>\n",
       "        <td>877683083</td>\n",
       "    </tr>\n",
       "    <tr>\n",
       "        <td>TV Shows</td>\n",
       "        <td>423.8700000000012</td>\n",
       "        <td>501094957</td>\n",
       "    </tr>\n",
       "    <tr>\n",
       "        <td>90’s Music</td>\n",
       "        <td>1462.2300000000118</td>\n",
       "        <td>398705153</td>\n",
       "    </tr>\n",
       "    <tr>\n",
       "        <td>Music</td>\n",
       "        <td>3257.0999999997507</td>\n",
       "        <td>877683083</td>\n",
       "    </tr>\n",
       "    <tr>\n",
       "        <td>Music Videos</td>\n",
       "        <td>0.99</td>\n",
       "        <td>294294</td>\n",
       "    </tr>\n",
       "    <tr>\n",
       "        <td>TV Shows</td>\n",
       "        <td>423.8700000000012</td>\n",
       "        <td>501094957</td>\n",
       "    </tr>\n",
       "    <tr>\n",
       "        <td>Brazilian Music</td>\n",
       "        <td>38.60999999999999</td>\n",
       "        <td>9486559</td>\n",
       "    </tr>\n",
       "    <tr>\n",
       "        <td>Classical</td>\n",
       "        <td>74.24999999999999</td>\n",
       "        <td>21770592</td>\n",
       "    </tr>\n",
       "    <tr>\n",
       "        <td>Classical 101 - Deep Cuts</td>\n",
       "        <td>24.74999999999999</td>\n",
       "        <td>6755730</td>\n",
       "    </tr>\n",
       "    <tr>\n",
       "        <td>Classical 101 - Next Steps</td>\n",
       "        <td>24.74999999999999</td>\n",
       "        <td>7575051</td>\n",
       "    </tr>\n",
       "    <tr>\n",
       "        <td>Classical 101 - The Basics</td>\n",
       "        <td>24.74999999999999</td>\n",
       "        <td>7439811</td>\n",
       "    </tr>\n",
       "    <tr>\n",
       "        <td>Grunge</td>\n",
       "        <td>14.850000000000001</td>\n",
       "        <td>4122018</td>\n",
       "    </tr>\n",
       "    <tr>\n",
       "        <td>Heavy Metal Classic</td>\n",
       "        <td>25.739999999999988</td>\n",
       "        <td>8206312</td>\n",
       "    </tr>\n",
       "    <tr>\n",
       "        <td>On-The-Go 1</td>\n",
       "        <td>0.99</td>\n",
       "        <td>197459</td>\n",
       "    </tr>\n",
       "</table>"
      ],
      "text/plain": [
       "[('Music', 3257.0999999997507, 877683083),\n",
       " ('TV Shows', 423.8700000000012, 501094957),\n",
       " ('90’s Music', 1462.2300000000118, 398705153),\n",
       " ('Music', 3257.0999999997507, 877683083),\n",
       " ('Music Videos', 0.99, 294294),\n",
       " ('TV Shows', 423.8700000000012, 501094957),\n",
       " ('Brazilian Music', 38.60999999999999, 9486559),\n",
       " ('Classical', 74.24999999999999, 21770592),\n",
       " ('Classical 101 - Deep Cuts', 24.74999999999999, 6755730),\n",
       " ('Classical 101 - Next Steps', 24.74999999999999, 7575051),\n",
       " ('Classical 101 - The Basics', 24.74999999999999, 7439811),\n",
       " ('Grunge', 14.850000000000001, 4122018),\n",
       " ('Heavy Metal Classic', 25.739999999999988, 8206312),\n",
       " ('On-The-Go 1', 0.99, 197459)]"
      ]
     },
     "execution_count": 3,
     "metadata": {},
     "output_type": "execute_result"
    }
   ],
   "source": [
    "%%sql\n",
    "SELECT playlists.Name as Playlist_name, SUM(tracks.UnitPrice) as Playlist_price, SUM(tracks.Milliseconds) as Duration\n",
    "FROM tracks\n",
    "JOIN playlist_track ON playlist_track.TrackId = tracks.TrackId\n",
    "JOIN playlists ON playlists.PlaylistId = playlist_track.PlaylistId\n",
    "GROUP BY playlists.PlaylistId, playlists.Name"
   ]
  },
  {
   "cell_type": "markdown",
   "metadata": {},
   "source": [
    "## Задание 3\n",
    "Для каждого артиста определить все жанры песен, которые у него есть и количество песен по каждому жанру.\n"
   ]
  },
  {
   "cell_type": "code",
   "execution_count": 4,
   "metadata": {},
   "outputs": [
    {
     "name": "stdout",
     "output_type": "stream",
     "text": [
      " * sqlite:///chinook.db\n",
      "Done.\n"
     ]
    },
    {
     "data": {
      "text/html": [
       "<table>\n",
       "    <tr>\n",
       "        <th>Name</th>\n",
       "        <th>Name_1</th>\n",
       "        <th>Num</th>\n",
       "    </tr>\n",
       "    <tr>\n",
       "        <td>AC/DC</td>\n",
       "        <td>Rock</td>\n",
       "        <td>18</td>\n",
       "    </tr>\n",
       "    <tr>\n",
       "        <td>Accept</td>\n",
       "        <td>Rock</td>\n",
       "        <td>4</td>\n",
       "    </tr>\n",
       "    <tr>\n",
       "        <td>Aerosmith</td>\n",
       "        <td>Rock</td>\n",
       "        <td>15</td>\n",
       "    </tr>\n",
       "    <tr>\n",
       "        <td>Alanis Morissette</td>\n",
       "        <td>Rock</td>\n",
       "        <td>13</td>\n",
       "    </tr>\n",
       "    <tr>\n",
       "        <td>Alice In Chains</td>\n",
       "        <td>Rock</td>\n",
       "        <td>12</td>\n",
       "    </tr>\n",
       "    <tr>\n",
       "        <td>Antônio Carlos Jobim</td>\n",
       "        <td>Jazz</td>\n",
       "        <td>14</td>\n",
       "    </tr>\n",
       "    <tr>\n",
       "        <td>Antônio Carlos Jobim</td>\n",
       "        <td>Latin</td>\n",
       "        <td>17</td>\n",
       "    </tr>\n",
       "    <tr>\n",
       "        <td>Apocalyptica</td>\n",
       "        <td>Metal</td>\n",
       "        <td>8</td>\n",
       "    </tr>\n",
       "    <tr>\n",
       "        <td>Audioslave</td>\n",
       "        <td>Rock</td>\n",
       "        <td>14</td>\n",
       "    </tr>\n",
       "    <tr>\n",
       "        <td>Audioslave</td>\n",
       "        <td>Alternative &amp; Punk</td>\n",
       "        <td>12</td>\n",
       "    </tr>\n",
       "</table>"
      ],
      "text/plain": [
       "[('AC/DC', 'Rock', 18),\n",
       " ('Accept', 'Rock', 4),\n",
       " ('Aerosmith', 'Rock', 15),\n",
       " ('Alanis Morissette', 'Rock', 13),\n",
       " ('Alice In Chains', 'Rock', 12),\n",
       " ('Antônio Carlos Jobim', 'Jazz', 14),\n",
       " ('Antônio Carlos Jobim', 'Latin', 17),\n",
       " ('Apocalyptica', 'Metal', 8),\n",
       " ('Audioslave', 'Rock', 14),\n",
       " ('Audioslave', 'Alternative & Punk', 12)]"
      ]
     },
     "execution_count": 4,
     "metadata": {},
     "output_type": "execute_result"
    }
   ],
   "source": [
    "%%sql\n",
    "SELECT artists.name, genres.name, count(tracks.trackid) as Num\n",
    "FROM tracks\n",
    "JOIN albums ON albums.albumid = tracks.albumid\n",
    "JOIN artists ON artists.artistid = albums.artistid\n",
    "JOIN genres ON genres.genreid = tracks.genreid\n",
    "GROUP BY artists.artistid, genres.genreid, genres.name, artists.name\n",
    "limit 10"
   ]
  },
  {
   "cell_type": "markdown",
   "metadata": {},
   "source": [
    "## Задание 4\n",
    "Для каждого артиста найти жанр, по которому он заработал наибольшее количество денег, а также вывести соотношение общей суммы, заработанной артистом по всем другим жанрам к общей сумме заработанных денег."
   ]
  },
  {
   "cell_type": "code",
   "execution_count": 5,
   "metadata": {},
   "outputs": [
    {
     "name": "stdout",
     "output_type": "stream",
     "text": [
      " * sqlite:///chinook.db\n",
      "Done.\n"
     ]
    },
    {
     "data": {
      "text/html": [
       "<table>\n",
       "    <tr>\n",
       "        <th>Artists</th>\n",
       "        <th>M_SUMMA</th>\n",
       "        <th>Relation</th>\n",
       "        <th>Genre</th>\n",
       "    </tr>\n",
       "    <tr>\n",
       "        <td>AC/DC</td>\n",
       "        <td>15.840000000000002</td>\n",
       "        <td>0.0</td>\n",
       "        <td>Rock</td>\n",
       "    </tr>\n",
       "    <tr>\n",
       "        <td>Accept</td>\n",
       "        <td>4.95</td>\n",
       "        <td>0.0</td>\n",
       "        <td>Rock</td>\n",
       "    </tr>\n",
       "    <tr>\n",
       "        <td>Aerosmith</td>\n",
       "        <td>9.9</td>\n",
       "        <td>0.0</td>\n",
       "        <td>Rock</td>\n",
       "    </tr>\n",
       "    <tr>\n",
       "        <td>Alanis Morissette</td>\n",
       "        <td>7.920000000000001</td>\n",
       "        <td>0.0</td>\n",
       "        <td>Rock</td>\n",
       "    </tr>\n",
       "    <tr>\n",
       "        <td>Alice In Chains</td>\n",
       "        <td>6.930000000000001</td>\n",
       "        <td>0.0</td>\n",
       "        <td>Rock</td>\n",
       "    </tr>\n",
       "    <tr>\n",
       "        <td>Antônio Carlos Jobim</td>\n",
       "        <td>14.850000000000001</td>\n",
       "        <td>0.3181818181818181</td>\n",
       "        <td>Latin</td>\n",
       "    </tr>\n",
       "    <tr>\n",
       "        <td>Apocalyptica</td>\n",
       "        <td>3.96</td>\n",
       "        <td>0.0</td>\n",
       "        <td>Metal</td>\n",
       "    </tr>\n",
       "    <tr>\n",
       "        <td>Audioslave</td>\n",
       "        <td>5.94</td>\n",
       "        <td>0.625</td>\n",
       "        <td>Rock</td>\n",
       "    </tr>\n",
       "    <tr>\n",
       "        <td>BackBeat</td>\n",
       "        <td>5.94</td>\n",
       "        <td>0.0</td>\n",
       "        <td>Rock And Roll</td>\n",
       "    </tr>\n",
       "    <tr>\n",
       "        <td>Billy Cobham</td>\n",
       "        <td>3.96</td>\n",
       "        <td>0.0</td>\n",
       "        <td>Jazz</td>\n",
       "    </tr>\n",
       "</table>"
      ],
      "text/plain": [
       "[('AC/DC', 15.840000000000002, 0.0, 'Rock'),\n",
       " ('Accept', 4.95, 0.0, 'Rock'),\n",
       " ('Aerosmith', 9.9, 0.0, 'Rock'),\n",
       " ('Alanis Morissette', 7.920000000000001, 0.0, 'Rock'),\n",
       " ('Alice In Chains', 6.930000000000001, 0.0, 'Rock'),\n",
       " ('Antônio Carlos Jobim', 14.850000000000001, 0.3181818181818181, 'Latin'),\n",
       " ('Apocalyptica', 3.96, 0.0, 'Metal'),\n",
       " ('Audioslave', 5.94, 0.625, 'Rock'),\n",
       " ('BackBeat', 5.94, 0.0, 'Rock And Roll'),\n",
       " ('Billy Cobham', 3.96, 0.0, 'Jazz')]"
      ]
     },
     "execution_count": 5,
     "metadata": {},
     "output_type": "execute_result"
    }
   ],
   "source": [
    "%%sql\n",
    "WITH tab1 as (\n",
    "SELECT artists.artistid as ID, artists.name as Artists, genres.name as Genre,\n",
    "    SUM(invoice_items.unitprice * invoice_items.quantity) as SUMMA\n",
    "-- SUMMA = количество * цена\n",
    "FROM invoice_items\n",
    "JOIN tracks ON tracks.trackid = invoice_items.trackid\n",
    "JOIN albums ON tracks.albumid = albums.albumid\n",
    "JOIN artists ON albums.artistid = artists.artistid\n",
    "JOIN genres ON tracks.genreid = genres.genreid\n",
    "GROUP BY artists.artistid, artists.name, genres.name\n",
    "),\n",
    "\n",
    "tab2 as (\n",
    "SELECT ID, MAX(SUMMA) as M_SUMMA, (1 - MAX(SUMMA) / SUM(SUMMA)) as Relation\n",
    "FROM tab1\n",
    "GROUP BY ID\n",
    ")\n",
    "\n",
    "\n",
    "SELECT tab1.Artists, tab2.M_SUMMA, tab2.Relation, tab1.Genre\n",
    "FROM tab1\n",
    "JOIN tab2 ON tab2.ID = tab1.ID\n",
    "WHERE tab1.SUMMA = tab2.M_SUMMA AND tab2.ID = tab1.ID\n",
    "limit 10"
   ]
  },
  {
   "cell_type": "markdown",
   "metadata": {},
   "source": [
    "## Задание 5\n",
    "Для каждой компании вывести общее количестов песен, купленных по жанру рок"
   ]
  },
  {
   "cell_type": "code",
   "execution_count": 6,
   "metadata": {},
   "outputs": [
    {
     "name": "stdout",
     "output_type": "stream",
     "text": [
      " * sqlite:///chinook.db\n",
      "Done.\n"
     ]
    },
    {
     "data": {
      "text/html": [
       "<table>\n",
       "    <tr>\n",
       "        <th>Company</th>\n",
       "        <th>NUM</th>\n",
       "    </tr>\n",
       "    <tr>\n",
       "        <td>Apple Inc.</td>\n",
       "        <td>15</td>\n",
       "    </tr>\n",
       "    <tr>\n",
       "        <td>Banco do Brasil S.A.</td>\n",
       "        <td>11</td>\n",
       "    </tr>\n",
       "    <tr>\n",
       "        <td>Embraer - Empresa Brasileira de Aeronáutica S.A.</td>\n",
       "        <td>14</td>\n",
       "    </tr>\n",
       "    <tr>\n",
       "        <td>Google Inc.</td>\n",
       "        <td>11</td>\n",
       "    </tr>\n",
       "    <tr>\n",
       "        <td>JetBrains s.r.o.</td>\n",
       "        <td>15</td>\n",
       "    </tr>\n",
       "    <tr>\n",
       "        <td>Microsoft Corporation</td>\n",
       "        <td>8</td>\n",
       "    </tr>\n",
       "    <tr>\n",
       "        <td>Riotur</td>\n",
       "        <td>16</td>\n",
       "    </tr>\n",
       "    <tr>\n",
       "        <td>Rogers Canada</td>\n",
       "        <td>12</td>\n",
       "    </tr>\n",
       "    <tr>\n",
       "        <td>Telus</td>\n",
       "        <td>13</td>\n",
       "    </tr>\n",
       "    <tr>\n",
       "        <td>Woodstock Discos</td>\n",
       "        <td>29</td>\n",
       "    </tr>\n",
       "</table>"
      ],
      "text/plain": [
       "[('Apple Inc.', 15),\n",
       " ('Banco do Brasil S.A.', 11),\n",
       " ('Embraer - Empresa Brasileira de Aeronáutica S.A.', 14),\n",
       " ('Google Inc.', 11),\n",
       " ('JetBrains s.r.o.', 15),\n",
       " ('Microsoft Corporation', 8),\n",
       " ('Riotur', 16),\n",
       " ('Rogers Canada', 12),\n",
       " ('Telus', 13),\n",
       " ('Woodstock Discos', 29)]"
      ]
     },
     "execution_count": 6,
     "metadata": {},
     "output_type": "execute_result"
    }
   ],
   "source": [
    "%%sql\n",
    "SELECT customers.company, SUM(invoice_items.quantity) as NUM\n",
    "FROM customers\n",
    "JOIN invoices ON customers.customerid = invoices.customerid\n",
    "JOIN invoice_items ON invoices.invoiceid = invoice_items.invoiceid\n",
    "JOIN tracks ON invoice_items.trackid = tracks.trackid\n",
    "JOIN genres ON tracks.genreid = genres.genreid\n",
    "WHERE customers.company NOT LIKE 'None'\n",
    "GROUP BY customers.company, genres.name\n",
    "HAVING genres.name LIKE 'Rock'"
   ]
  },
  {
   "cell_type": "markdown",
   "metadata": {},
   "source": [
    "## Задание 6\n",
    "Вывести альбом, который является минимальным по объему(в байтах) среди альбомов со стоимостью, большей средней цены за альбом по всем альбомам с таким же жанром (если у альбома песни с нескольким жанрами, то жанром является тот, у которого наибольшее количество песен в альбоме)"
   ]
  },
  {
   "cell_type": "code",
   "execution_count": 7,
   "metadata": {},
   "outputs": [
    {
     "name": "stdout",
     "output_type": "stream",
     "text": [
      " * sqlite:///chinook.db\n",
      "Done.\n"
     ]
    },
    {
     "data": {
      "text/html": [
       "<table>\n",
       "    <tr>\n",
       "        <th>title</th>\n",
       "        <th>GenreID</th>\n",
       "        <th>MIN(MinSize)</th>\n",
       "    </tr>\n",
       "    <tr>\n",
       "        <td>English Renaissance</td>\n",
       "        <td>24</td>\n",
       "        <td>3464564</td>\n",
       "    </tr>\n",
       "</table>"
      ],
      "text/plain": [
       "[('English Renaissance', 24, 3464564)]"
      ]
     },
     "execution_count": 7,
     "metadata": {},
     "output_type": "execute_result"
    }
   ],
   "source": [
    "%%sql\n",
    "WITH tab1 as(\n",
    "SELECT albums.Title, albums.albumid, genres.genreid, genres.Name, COUNT(genres.genreid) as Num\n",
    "FROM tracks\n",
    "JOIN albums USING(albumid)\n",
    "JOIN genres USING(genreid)\n",
    "GROUP BY albums.albumid, genres.genreid),\n",
    "\n",
    "tab2 as(\n",
    "SELECT tab1.albumid, tab1.title, tab1.genreid as GenreID, MAX(Num)\n",
    "FROM tab1\n",
    "GROUP BY Title\n",
    "),\n",
    "\n",
    "tab3 as(\n",
    "SELECT tab2.GenreID, albums.Title, SUM(tracks.unitprice) as Price\n",
    "FROM tab2\n",
    "JOIN albums USING(albumid)\n",
    "JOIN tracks USING(albumid)\n",
    "GROUP BY albumid\n",
    "),\n",
    "\n",
    "tab4 as(\n",
    "SELECT AVG(tab3.Price) as AverageCost, tab3.GenreID\n",
    "FROM tab3\n",
    "GROUP BY GenreID\n",
    "),\n",
    "\n",
    "tab5 as(\n",
    "SELECT SUM(tracks.unitprice) as AllPrice, SUM(tracks.bytes) as Size, tracks.albumid\n",
    "FROM tracks\n",
    "JOIN Albums USING(albumid)\n",
    "GROUP BY albumid\n",
    "),\n",
    "\n",
    "tab6 as(\n",
    "SELECT tab2.title, tab2.GenreID, MIN(tab5.size) as MinSize\n",
    "FROM tab2\n",
    "JOIN  tab4 USING(GenreID)\n",
    "JOIN  tab5 USING(albumid)\n",
    "WHERE tab5.AllPrice > tab4.AverageCost\n",
    "GROUP BY GenreID, Title\n",
    ")\n",
    "\n",
    "\n",
    "SELECT Title, GenreID, MIN(MinSize)\n",
    "FROM tab6"
   ]
  }
 ],
 "metadata": {
  "kernelspec": {
   "display_name": "Python 3",
   "language": "python",
   "name": "python3"
  },
  "language_info": {
   "codemirror_mode": {
    "name": "ipython",
    "version": 3
   },
   "file_extension": ".py",
   "mimetype": "text/x-python",
   "name": "python",
   "nbconvert_exporter": "python",
   "pygments_lexer": "ipython3",
   "version": "3.7.3"
  }
 },
 "nbformat": 4,
 "nbformat_minor": 2
}
