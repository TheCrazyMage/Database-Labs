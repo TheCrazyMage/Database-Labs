{
 "cells": [
  {
   "cell_type": "markdown",
   "metadata": {
    "collapsed": true
   },
   "source": [
    "# Домашнее задание 2 \n",
    "\n",
    "Необходимо реализовать схему, указанную в hw_diagram.pdf \n"
   ]
  },
  {
   "cell_type": "markdown",
   "metadata": {},
   "source": [
    "## Описание таблиц \n",
    "PeopleStatus - Описание возможных статусов людей, которые есть в университете (Студент, Преподаватель).\n",
    "Faculties - Описание факультетов, которые есть в университете (KIB, IT, и т.д.).\n",
    "People - Информация о людях в университете (Имя, почта, ссылка на факультет, ссылка на статус).\n",
    "Classes - Описание возможных классов в университете (название (Математический анализ) и ссылка на факультет).\n",
    "Semesters - Справочник семестров факультета(например, Осень2016, '2016-01-01', '2016-12-31').\n",
    "ClassesSchedule - Расписание классов (ссылки на семестр, преподавателя и курс, день недели, время начала).\n",
    "StudentsSchedule - Таблица, описывающая, какой студент ходит на какой курс."
   ]
  },
  {
   "cell_type": "code",
   "execution_count": 2,
   "metadata": {},
   "outputs": [
    {
     "data": {
      "text/plain": [
       "'Connected: @Lab2-3.db'"
      ]
     },
     "execution_count": 2,
     "metadata": {},
     "output_type": "execute_result"
    }
   ],
   "source": [
    "%load_ext sql\n",
    "%sql sqlite:///Lab2-3.db"
   ]
  },
  {
   "cell_type": "markdown",
   "metadata": {},
   "source": [
    "## Создание таблиц\n",
    "Напишет ниже скрипты по созданию таблиц с учетом всех внешних ключей."
   ]
  },
  {
   "cell_type": "code",
   "execution_count": 3,
   "metadata": {},
   "outputs": [
    {
     "name": "stdout",
     "output_type": "stream",
     "text": [
      " * sqlite:///Lab2-3.db\n",
      "Done.\n"
     ]
    },
    {
     "data": {
      "text/plain": [
       "[]"
      ]
     },
     "execution_count": 3,
     "metadata": {},
     "output_type": "execute_result"
    }
   ],
   "source": [
    "%%sql\n",
    "PRAGMA foreign_keys = ON"
   ]
  },
  {
   "cell_type": "code",
   "execution_count": 4,
   "metadata": {},
   "outputs": [
    {
     "name": "stdout",
     "output_type": "stream",
     "text": [
      " * sqlite:///Lab2-3.db\n",
      "Done.\n",
      "Done.\n",
      "Done.\n",
      "Done.\n",
      "Done.\n",
      "Done.\n",
      "Done.\n"
     ]
    },
    {
     "data": {
      "text/plain": [
       "[]"
      ]
     },
     "execution_count": 4,
     "metadata": {},
     "output_type": "execute_result"
    }
   ],
   "source": [
    "%%sql\n",
    "--Удаление таблиц\n",
    "--Удаляем таблицу с внешним ключами, если сделаем наоборот, то не на что будем ссылаться => противоречие\n",
    "drop table if exists StudentsShedule;\n",
    "drop table if exists ClassesShedule;\n",
    "drop table if exists People;\n",
    "drop table if exists Classes;\n",
    "drop table if exists Semesters;\n",
    "drop table if exists PeopleStatus;\n",
    "drop table if exists Faculties;"
   ]
  },
  {
   "cell_type": "code",
   "execution_count": 8,
   "metadata": {},
   "outputs": [
    {
     "name": "stdout",
     "output_type": "stream",
     "text": [
      " * sqlite:///Lab2-3.db\n",
      "Done.\n",
      "Done.\n",
      "Done.\n",
      "Done.\n",
      "Done.\n",
      "Done.\n",
      "Done.\n"
     ]
    },
    {
     "data": {
      "text/plain": [
       "[]"
      ]
     },
     "execution_count": 8,
     "metadata": {},
     "output_type": "execute_result"
    }
   ],
   "source": [
    "%%sql\n",
    "-- Идем по нарастающей, то есть создаем таблицы сначала без внешних ключей, потом с внешними\n",
    "CREATE TABLE Faculties \n",
    "(\n",
    "    id int NOT NULL PRIMARY KEY, \n",
    "    name varchar(100)\n",
    ");\n",
    "\n",
    "CREATE TABLE PeopleStatus \n",
    "(\n",
    "    id int NOT NULL PRIMARY KEY, \n",
    "    name varchar(100)\n",
    ");\n",
    "\n",
    "CREATE TABLE Semesters \n",
    "(\n",
    "    id int NOT NULL PRIMARY KEY, \n",
    "    shortname varchar(100),\n",
    "    date_start date,\n",
    "    date_end date\n",
    ");\n",
    "\n",
    "CREATE TABLE Classes  \n",
    "(\n",
    "    id int NOT NULL PRIMARY KEY, \n",
    "    description varchar(100),\n",
    "    fac_id int,\n",
    "    foreign key(fac_id) REFERENCES  Faculties(id)\n",
    ");\n",
    "\n",
    "CREATE TABLE People \n",
    "(\n",
    "    id int NOT NULL PRIMARY KEY, \n",
    "    name varchar(100),\n",
    "    email varchar(100),\n",
    "    fac_id integer,\n",
    "    status_id integer,\n",
    "    FOREIGN KEY(fac_id) REFERENCES  Faculties(id),\n",
    "    FOREIGN KEY(status_id) REFERENCES  PeopleStatus(id)\n",
    ");\n",
    "\n",
    "CREATE TABLE ClassesShedule \n",
    "(\n",
    "    id int NOT NULL PRIMARY KEY, \n",
    "    class_id int,\n",
    "    teacher_id int,\n",
    "    semester_id int,\n",
    "    week_day int,\n",
    "    time_start varchar(100),\n",
    "    FOREIGN KEY(class_id) REFERENCES  Classes(id),\n",
    "    FOREIGN KEY(semester_id) REFERENCES  Semesters(id),\n",
    "    FOREIGN KEY(teacher_id) REFERENCES People(id)\n",
    ");\n",
    "\n",
    "CREATE TABLE StudentsShedule \n",
    "(\n",
    "    student_id int, \n",
    "    classesshedule_id int,\n",
    "    FOREIGN KEY(student_id) REFERENCES People(id),\n",
    "    FOREIGN KEY(classesshedule_id) REFERENCES ClassesShedule(id)\n",
    ");"
   ]
  },
  {
   "cell_type": "markdown",
   "metadata": {},
   "source": [
    "## Добавление записей в таблицы\n",
    "Приведите примеры добавления записей в каждую из таблиц\n"
   ]
  },
  {
   "cell_type": "markdown",
   "metadata": {},
   "source": [
    "## Описание таблиц \n",
    "PeopleStatus - Описание возможных статусов людей, которые есть в университете (Студент, Преподаватель).\n",
    "Faculties - Описание факультетов, которые есть в университете (KIB, IT, и т.д.).\n",
    "People - Информация о людях в университете (Имя, почта, ссылка на факультет, ссылка на статус).\n",
    "Classes - Описание возможных классов в университете (название (Математический анализ) и ссылка на факультет).\n",
    "Semesters - Справочник семестров факультета(например, Осень2016, '2016-01-01', '2016-12-31').\n",
    "ClassesSchedule - Расписание классов (ссылки на семестр, преподавателя и курс, день недели, время начала).\n",
    "StudentsSchedule - Таблица, описывающая, какой студент ходит на какой курс."
   ]
  },
  {
   "cell_type": "code",
   "execution_count": 13,
   "metadata": {},
   "outputs": [
    {
     "name": "stdout",
     "output_type": "stream",
     "text": [
      " * sqlite:///Lab2-3.db\n",
      "1 rows affected.\n",
      "1 rows affected.\n",
      "1 rows affected.\n",
      "1 rows affected.\n",
      "1 rows affected.\n",
      "1 rows affected.\n",
      "1 rows affected.\n",
      "1 rows affected.\n",
      "1 rows affected.\n",
      "1 rows affected.\n",
      "1 rows affected.\n",
      "1 rows affected.\n",
      "1 rows affected.\n",
      "1 rows affected.\n",
      "1 rows affected.\n",
      "1 rows affected.\n",
      "1 rows affected.\n",
      "1 rows affected.\n",
      "1 rows affected.\n",
      "1 rows affected.\n",
      "1 rows affected.\n",
      "1 rows affected.\n",
      "1 rows affected.\n",
      "1 rows affected.\n",
      "1 rows affected.\n",
      "1 rows affected.\n"
     ]
    },
    {
     "data": {
      "text/plain": [
       "[]"
      ]
     },
     "execution_count": 13,
     "metadata": {},
     "output_type": "execute_result"
    }
   ],
   "source": [
    "%%sql\n",
    "\n",
    "INSERT INTO PeopleStatus(id, name) VALUES (1, 'student');\n",
    "INSERT INTO PeopleStatus(id, name) VALUES (2, 'teacher');\n",
    "\n",
    "INSERT INTO Faculties(id, name) VALUES (1, 'KIB');\n",
    "INSERT INTO Faculties(id, name) VALUES (2, 'IT');\n",
    "INSERT INTO Faculties(id, name) VALUES (3, 'INTEGU');\n",
    "INSERT INTO Faculties(id, name) VALUES (4, 'FTI');\n",
    "INSERT INTO Faculties(id, name) VALUES (5, 'RTS');\n",
    "\n",
    "insert Into Semesters(id, shortname, date_start, date_end ) values (1, '-I-','01-09-2018','31-01-2019');\n",
    "insert Into Semesters(id, shortname, date_start, date_end ) values (2, '-II-','01-02-2019','31-05-2019');\n",
    "\n",
    "insert Into People(id, name, email, fac_id, status_id) values (1, 'Mishan Aliev', \"MishanAliev@mail.com\", 1, 1);\n",
    "insert Into People(id, name, email, fac_id, status_id) values (2, 'Ali Mishanov', \"AliMishanov@gmail.com\", 1, 1);\n",
    "insert Into People(id, name, email, fac_id, status_id) values (3, 'Ivan Ivanov', \"'IVAN@yandex.com\", 3, 1);\n",
    "insert Into People(id, name, email, fac_id, status_id) values (4, 'Smirna Smirnov', \"Smirna1976@mirea.com\", 1, 2);\n",
    "insert Into People(id, name, email, fac_id, status_id) values (5, 'Oleg Olegov', \"Olegov87@mirea.com\", 2, 2);\n",
    "\n",
    "insert Into Classes(id, description, fac_id) values (1, 'Computer science', 3);\n",
    "insert Into Classes(id, description, fac_id) values (2, 'Economics', 1);\n",
    "\n",
    "insert Into ClassesShedule(id, class_id, teacher_id, semester_id, week_day, time_start ) values (1, 1, 4, 1, 1,'09:00');\n",
    "insert Into ClassesShedule(id, class_id, teacher_id, semester_id, week_day, time_start ) values (2, 2, 5, 1, 1,'09:00');\n",
    "insert Into ClassesShedule(id, class_id, teacher_id, semester_id, week_day, time_start ) values (3, 1, 4, 1, 3,'12:00');\n",
    "insert Into ClassesShedule(id, class_id, teacher_id, semester_id, week_day, time_start ) values (4, 2, 5, 1, 4,'12:00');\n",
    "\n",
    "insert Into StudentsShedule(student_id,classesshedule_id) values (1, 1);\n",
    "insert Into StudentsShedule(student_id,classesshedule_id) values (1, 4);\n",
    "insert Into StudentsShedule(student_id,classesshedule_id) values (2, 1);\n",
    "insert Into StudentsShedule(student_id,classesshedule_id) values (2, 4);\n",
    "insert Into StudentsShedule(student_id,classesshedule_id) values (3, 2);\n",
    "insert Into StudentsShedule(student_id,classesshedule_id) values (3, 3);\n",
    "\n"
   ]
  },
  {
   "cell_type": "code",
   "execution_count": 15,
   "metadata": {},
   "outputs": [
    {
     "name": "stdout",
     "output_type": "stream",
     "text": [
      " * sqlite:///Lab2-3.db\n",
      "Done.\n"
     ]
    },
    {
     "data": {
      "text/html": [
       "<table>\n",
       "    <tr>\n",
       "        <th>name</th>\n",
       "        <th>description</th>\n",
       "        <th>week_day</th>\n",
       "        <th>time_start</th>\n",
       "    </tr>\n",
       "    <tr>\n",
       "        <td>Mishan Aliev</td>\n",
       "        <td>Computer science</td>\n",
       "        <td>1</td>\n",
       "        <td>09:00</td>\n",
       "    </tr>\n",
       "    <tr>\n",
       "        <td>Mishan Aliev</td>\n",
       "        <td>Economics</td>\n",
       "        <td>4</td>\n",
       "        <td>12:00</td>\n",
       "    </tr>\n",
       "    <tr>\n",
       "        <td>Ali Mishanov</td>\n",
       "        <td>Computer science</td>\n",
       "        <td>1</td>\n",
       "        <td>09:00</td>\n",
       "    </tr>\n",
       "    <tr>\n",
       "        <td>Ali Mishanov</td>\n",
       "        <td>Economics</td>\n",
       "        <td>4</td>\n",
       "        <td>12:00</td>\n",
       "    </tr>\n",
       "    <tr>\n",
       "        <td>Ivan Ivanov</td>\n",
       "        <td>Economics</td>\n",
       "        <td>1</td>\n",
       "        <td>09:00</td>\n",
       "    </tr>\n",
       "    <tr>\n",
       "        <td>Ivan Ivanov</td>\n",
       "        <td>Computer science</td>\n",
       "        <td>3</td>\n",
       "        <td>12:00</td>\n",
       "    </tr>\n",
       "</table>"
      ],
      "text/plain": [
       "[('Mishan Aliev', 'Computer science', 1, '09:00'),\n",
       " ('Mishan Aliev', 'Economics', 4, '12:00'),\n",
       " ('Ali Mishanov', 'Computer science', 1, '09:00'),\n",
       " ('Ali Mishanov', 'Economics', 4, '12:00'),\n",
       " ('Ivan Ivanov', 'Economics', 1, '09:00'),\n",
       " ('Ivan Ivanov', 'Computer science', 3, '12:00')]"
      ]
     },
     "execution_count": 15,
     "metadata": {},
     "output_type": "execute_result"
    }
   ],
   "source": [
    "%%sql\n",
    "SELECT name, Classes.description, ClassesShedule.week_day, ClassesShedule.time_start\n",
    "FROM StudentsShedule\n",
    "JOIN People ON People.id = StudentsShedule.student_id\n",
    "JOIN ClassesShedule ON StudentsShedule.classesshedule_id = ClassesShedule.id\n",
    "JOIN Classes ON ClassesShedule.class_id = Classes.id\n",
    "GROUP BY People.id, classesshedule_id"
   ]
  }
 ],
 "metadata": {
  "kernelspec": {
   "display_name": "Python 3",
   "language": "python",
   "name": "python3"
  },
  "language_info": {
   "codemirror_mode": {
    "name": "ipython",
    "version": 3
   },
   "file_extension": ".py",
   "mimetype": "text/x-python",
   "name": "python",
   "nbconvert_exporter": "python",
   "pygments_lexer": "ipython3",
   "version": "3.7.3"
  }
 },
 "nbformat": 4,
 "nbformat_minor": 2
}
