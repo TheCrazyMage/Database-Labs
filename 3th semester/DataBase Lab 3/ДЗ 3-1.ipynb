{
 "cells": [
  {
   "cell_type": "markdown",
   "metadata": {},
   "source": [
    "Данное домашнее задание посвящено схеме базе данных, связанной с футбольным командами. Схема расположена в hw_diagram.jpg\n",
    "## Описание таблиц \n",
    "\n",
    "### Positions \n",
    "Позиции игроков\n",
    "id - уникальный идентификатор позиции \n",
    "Name - Название таблицы \n",
    "\n",
    "### Coaches \n",
    "Таблица тренеров \n",
    "id - уникальный идентификатор тренера\n",
    "Name - имя тренера \n",
    "\n",
    "## Teams \n",
    "Таблица команд \n",
    "id - уникальный идентификатор  команды \n",
    "Name - имя команды \n",
    "Location - расположение команды \n",
    "Coach_id - идентификатор тренера \n",
    "\n",
    "### Players \n",
    "Таблица игроков \n",
    "Id - уникальный идентификатор игрока\n",
    "Name - имя игрока \n",
    "Age - возраст игрока \n",
    "Position_id - идентификатор позиции \n",
    "Team_id - идентификатор команды \n",
    "Start_date - дата начала игры в команде \n",
    "\n",
    "### PlayersArchive \n",
    "Архив по игрокам (информация о том, в какой команде игрок играл ранее) \n",
    "player_id - идентификатор игрока \n",
    "team_id - идентификатор команды \n",
    "start_date - дата начала игры \n",
    "end_date - дата окончания игры"
   ]
  },
  {
   "cell_type": "code",
   "execution_count": 1,
   "metadata": {},
   "outputs": [
    {
     "data": {
      "text/plain": [
       "'Connected: @lab3-1.db'"
      ]
     },
     "execution_count": 1,
     "metadata": {},
     "output_type": "execute_result"
    }
   ],
   "source": [
    "%load_ext sql\n",
    "%sql sqlite:///lab3-1.db"
   ]
  },
  {
   "cell_type": "markdown",
   "metadata": {},
   "source": [
    "# Задание 1\n",
    "Реализовать перенакатываемые sql-скрипты по схеме hw_diagram, приложенного ниже."
   ]
  },
  {
   "cell_type": "code",
   "execution_count": 5,
   "metadata": {},
   "outputs": [
    {
     "name": "stdout",
     "output_type": "stream",
     "text": [
      " * sqlite:///lab3-1.db\n",
      "Done.\n",
      "Done.\n",
      "Done.\n",
      "Done.\n",
      "Done.\n",
      "Done.\n",
      "Done.\n",
      "Done.\n",
      "Done.\n",
      "Done.\n"
     ]
    },
    {
     "data": {
      "text/plain": [
       "[]"
      ]
     },
     "execution_count": 5,
     "metadata": {},
     "output_type": "execute_result"
    }
   ],
   "source": [
    "%%sql\n",
    "Pragma foreign_key=on;\n",
    "\n",
    "DROP TABLE if exists Positions;\n",
    "CREATE TABLE Positions\n",
    "(\n",
    "    id integer(0,0) NOT NULL Primary key,\n",
    "    name varchar(0,0)\n",
    "); \n",
    "\n",
    "DROP TABLE if exists Coaches;\n",
    "CREATE TABLE Coaches\n",
    "(\n",
    "    id integer(0,0) NOT NULL Primary key,\n",
    "    name varchar(0,0)\n",
    ");\n",
    "\n",
    "DROP TABLE if exists Teams;\n",
    "CREATE TABLE Teams\n",
    "(\n",
    "    id integer(0,0) NOT NULL Primary key,\n",
    "    name varchar(0,0),\n",
    "    location varchar(0,0),\n",
    "    coach_id intrger(0,0),\n",
    "    FOREIGN KEY(coach_id) REFERENCES  Coaches(ID)\n",
    ");\n",
    "\n",
    "DROP TABLE if exists Players;\n",
    "CREATE TABLE Players\n",
    "(\n",
    "    id integer(0,0) NOT NULL Primary key,\n",
    "    name varchar(0,0),\n",
    "    age integer(0,0),\n",
    "    pos_id integer(0,0),\n",
    "    team_id integer(0,0),\n",
    "    start_date data,\n",
    "    FOREIGN KEY(pos_id) REFERENCES  Positions(ID),\n",
    "    FOREIGN KEY(team_id) REFERENCES  Teams(ID)\n",
    ");\n",
    "\n",
    "DROP TABLE if exists PlayersArchive ;\n",
    "CREATE TABLE PlayersArchive \n",
    "(\n",
    "    player_id integer(0,0),\n",
    "    team_id integer(0,0),\n",
    "    start_date data,\n",
    "    end_date data,\n",
    "    FOREIGN KEY(player_id) REFERENCES  Players(ID),\n",
    "    FOREIGN KEY(team_id) REFERENCES  Teams(ID)\n",
    ");"
   ]
  },
  {
   "cell_type": "markdown",
   "metadata": {},
   "source": [
    "# Задание 2\n",
    "Написать sql-скрипт, осуществляюший добавление всех возможных позиций игроков. (В данной задаче можно ограничится четырьмя - вратарь, защитник, полузащитник, нападающий)"
   ]
  },
  {
   "cell_type": "code",
   "execution_count": 50,
   "metadata": {},
   "outputs": [
    {
     "name": "stdout",
     "output_type": "stream",
     "text": [
      " * sqlite:///lab3-1.db\n",
      "1 rows affected.\n",
      "1 rows affected.\n",
      "1 rows affected.\n",
      "1 rows affected.\n"
     ]
    },
    {
     "data": {
      "text/plain": [
       "[]"
      ]
     },
     "execution_count": 50,
     "metadata": {},
     "output_type": "execute_result"
    }
   ],
   "source": [
    "%%sql\n",
    "INSERT INTO Positions(id, name) VALUES (1, 'вратарь');\n",
    "INSERT INTO Positions(id, name) VALUES (2, 'защитник');\n",
    "INSERT INTO Positions(id, name) VALUES (3, 'полузащитник');\n",
    "INSERT INTO Positions(id, name) VALUES (4, 'нападающий');"
   ]
  },
  {
   "cell_type": "markdown",
   "metadata": {},
   "source": [
    "# Задание 3\n",
    "Написать функцию, осуществляющую добавление тренера. На вход функции подается имя тренера. При невозможности вставки функция должна обработать данное исключение и вывести пользователю информацию о проблеме\n",
    "\n",
    "После написания функции необходимо добавить несколько тренеров для таблицы."
   ]
  },
  {
   "cell_type": "code",
   "execution_count": 51,
   "metadata": {},
   "outputs": [],
   "source": [
    "import sqlite3\n",
    "# создадим соединение с нашей базой данных\n",
    "db = sqlite3.connect('lab3-1.db')"
   ]
  },
  {
   "cell_type": "code",
   "execution_count": 52,
   "metadata": {},
   "outputs": [],
   "source": [
    "def insertCoach(name):\n",
    "    try:\n",
    "        # создаем курсор - это специальный объект который делает запросы и получает их результаты\n",
    "        cur = db.cursor()\n",
    "        cur.execute( '''SELECT COALESCE(MAX(id)+1, 1) FROM Coaches''') # увеличение id\n",
    "        id = cur.fetchone()[0] # получение следующей строки данных или типNone, если объект не найден, возвразает кортеж\n",
    "        cur.execute('''INSERT INTO Coaches(id, name) VALUES(?,?)''', (id, name))\n",
    "        db.commit() # сохранение действий\n",
    "    except TypeError:\n",
    "        print('Error')\n",
    "        return -1\n",
    "    return id, name"
   ]
  },
  {
   "cell_type": "code",
   "execution_count": 53,
   "metadata": {},
   "outputs": [
    {
     "data": {
      "text/plain": [
       "(2, 'Гвардиола')"
      ]
     },
     "execution_count": 53,
     "metadata": {},
     "output_type": "execute_result"
    }
   ],
   "source": [
    "insertCoach('Зидан')\n",
    "insertCoach('Гвардиола')"
   ]
  },
  {
   "cell_type": "code",
   "execution_count": 54,
   "metadata": {},
   "outputs": [
    {
     "name": "stdout",
     "output_type": "stream",
     "text": [
      " * sqlite:///lab3-1.db\n",
      "Done.\n"
     ]
    },
    {
     "data": {
      "text/html": [
       "<table>\n",
       "    <tr>\n",
       "        <th>id</th>\n",
       "        <th>name</th>\n",
       "    </tr>\n",
       "    <tr>\n",
       "        <td>1</td>\n",
       "        <td>Зидан</td>\n",
       "    </tr>\n",
       "    <tr>\n",
       "        <td>2</td>\n",
       "        <td>Гвардиола</td>\n",
       "    </tr>\n",
       "</table>"
      ],
      "text/plain": [
       "[(1, 'Зидан'), (2, 'Гвардиола')]"
      ]
     },
     "execution_count": 54,
     "metadata": {},
     "output_type": "execute_result"
    }
   ],
   "source": [
    "%%sql\n",
    "Select *\n",
    "From coaches"
   ]
  },
  {
   "cell_type": "markdown",
   "metadata": {},
   "source": [
    "# Задание 4\n",
    "\n",
    "Написать функцию, осуществляющую добавление команды. На вход функция принимает (имя команды, местоположение, имя тренера).\n",
    "На выходе должна быть добавлена команда.\n",
    "\n",
    "После написания функции необходимо добавить несколько команд\n",
    "\n",
    "\n",
    "Таблица команд \n",
    "id - уникальный идентификатор  команды \n",
    "Name - имя команды \n",
    "Location - расположение команды \n",
    "Coach_id - идентификатор тренера "
   ]
  },
  {
   "cell_type": "code",
   "execution_count": 55,
   "metadata": {},
   "outputs": [],
   "source": [
    "def insertTeam(name, loc, coach_id):\n",
    "    try:\n",
    "        cur = db.cursor()\n",
    "        cur.execute( '''SELECT COALESCE(MAX(id)+1, 1) FROM Teams''')\n",
    "        id = cur.fetchone()[0]\n",
    "        cur.execute('''INSERT INTO Teams(id, name, location, coach_id) VALUES(?,?,?,?)''', (id, name, loc, coach_id))\n",
    "        db.commit()\n",
    "    except TypeError:\n",
    "        print('Error')\n",
    "        return -1\n",
    "    return id, name"
   ]
  },
  {
   "cell_type": "code",
   "execution_count": 56,
   "metadata": {},
   "outputs": [
    {
     "data": {
      "text/plain": [
       "(2, 'Манчестер сити')"
      ]
     },
     "execution_count": 56,
     "metadata": {},
     "output_type": "execute_result"
    }
   ],
   "source": [
    "insertTeam('Реал Мадрид', 'Мадрид', 1)\n",
    "insertTeam('Манчестер сити', 'Манчестер', 2)"
   ]
  },
  {
   "cell_type": "code",
   "execution_count": 57,
   "metadata": {},
   "outputs": [
    {
     "name": "stdout",
     "output_type": "stream",
     "text": [
      " * sqlite:///lab3-1.db\n",
      "Done.\n"
     ]
    },
    {
     "data": {
      "text/html": [
       "<table>\n",
       "    <tr>\n",
       "        <th>id</th>\n",
       "        <th>name</th>\n",
       "        <th>location</th>\n",
       "        <th>coach_id</th>\n",
       "    </tr>\n",
       "    <tr>\n",
       "        <td>1</td>\n",
       "        <td>Реал Мадрид</td>\n",
       "        <td>Мадрид</td>\n",
       "        <td>1</td>\n",
       "    </tr>\n",
       "    <tr>\n",
       "        <td>2</td>\n",
       "        <td>Манчестер сити</td>\n",
       "        <td>Манчестер</td>\n",
       "        <td>2</td>\n",
       "    </tr>\n",
       "</table>"
      ],
      "text/plain": [
       "[(1, 'Реал Мадрид', 'Мадрид', 1), (2, 'Манчестер сити', 'Манчестер', 2)]"
      ]
     },
     "execution_count": 57,
     "metadata": {},
     "output_type": "execute_result"
    }
   ],
   "source": [
    "%%sql\n",
    "SELECT *\n",
    "FROM Teams"
   ]
  },
  {
   "cell_type": "markdown",
   "metadata": {},
   "source": [
    "# Задание 5\n",
    "\n",
    "Написать функцию, осуществляющую обновление информации о команде. У функции на входе должен быть один обязательный параметр - название команды и два необязательных параметра - имя тренера и местоположение. При этом хотя бы один из необязательных параметров должен быть заполнен. Функция должна обновлять значение переданных необязательных параметров.\n",
    "\n",
    "После написания функции вызовите данную функцию несколько раз"
   ]
  },
  {
   "cell_type": "code",
   "execution_count": 58,
   "metadata": {},
   "outputs": [],
   "source": [
    "def updateTeam(teamName, coachName = None, location = None):\n",
    "    if (coachName != None and location != None):\n",
    "        cur = db.cursor()\n",
    "        cur.execute('''UPDATE Teams SET location = ?, \n",
    "                        coach_id = (SELECT id FROM Coaches WHERE name = ?)\n",
    "                        WHERE name = ?''', (location, coachName, teamName))\n",
    "        db.commit()\n",
    "    elif (coachName != None and location == None):\n",
    "        cur = db.cursor()\n",
    "        cur.execute('''UPDATE Teams SET coach_id = (SELECT id FROM Coaches WHERE name = ?)\n",
    "                         WHERE name = ?''', (coachName, teamName))\n",
    "        db.commit()\n",
    "    elif (coachName == None and location != None):\n",
    "        cur = db.cursor()\n",
    "        cur.execute('''UPDATE Teams SET location = ? \n",
    "                        WHERE name = ?''', (location, teamName))\n",
    "        db.commit()\n",
    "    elif (coachName == None and location == None):\n",
    "        print('Error')\n",
    "        return -1"
   ]
  },
  {
   "cell_type": "code",
   "execution_count": 59,
   "metadata": {},
   "outputs": [],
   "source": [
    "insertCoach('Тухель')\n",
    "insertTeam('ПСЖ', 'Париж', 3)\n",
    "updateTeam('Реал Мадрид', None, 'Барселона')\n",
    "updateTeam('Манчестер сити', 'Тухель', None)\n",
    "updateTeam('ПСЖ', 'Гвардиола', 'Лион')"
   ]
  },
  {
   "cell_type": "code",
   "execution_count": 60,
   "metadata": {},
   "outputs": [
    {
     "name": "stdout",
     "output_type": "stream",
     "text": [
      " * sqlite:///lab3-1.db\n",
      "Done.\n"
     ]
    },
    {
     "data": {
      "text/html": [
       "<table>\n",
       "    <tr>\n",
       "        <th>id</th>\n",
       "        <th>name</th>\n",
       "        <th>location</th>\n",
       "        <th>coach_id</th>\n",
       "    </tr>\n",
       "    <tr>\n",
       "        <td>1</td>\n",
       "        <td>Реал Мадрид</td>\n",
       "        <td>Барселона</td>\n",
       "        <td>1</td>\n",
       "    </tr>\n",
       "    <tr>\n",
       "        <td>2</td>\n",
       "        <td>Манчестер сити</td>\n",
       "        <td>Манчестер</td>\n",
       "        <td>3</td>\n",
       "    </tr>\n",
       "    <tr>\n",
       "        <td>3</td>\n",
       "        <td>ПСЖ</td>\n",
       "        <td>Лион</td>\n",
       "        <td>2</td>\n",
       "    </tr>\n",
       "</table>"
      ],
      "text/plain": [
       "[(1, 'Реал Мадрид', 'Барселона', 1),\n",
       " (2, 'Манчестер сити', 'Манчестер', 3),\n",
       " (3, 'ПСЖ', 'Лион', 2)]"
      ]
     },
     "execution_count": 60,
     "metadata": {},
     "output_type": "execute_result"
    }
   ],
   "source": [
    "%%sql\n",
    "SELECT *\n",
    "FROM Teams"
   ]
  },
  {
   "cell_type": "markdown",
   "metadata": {},
   "source": [
    "# Задание 6\n",
    "\n",
    "Написать функцию, осуществляющую добавление нового футболиста в таблицу игроков. На входе (имя, возраст, название позиции, название команды, дата перехода в команду(необязательный параметр)). Если дата перехода не указана, то нужно использовать текущую дату. Предусмотреть различные ошибки (такие как неверное имя позиции, неверное название команды, возраст < 10 и > 50 и т.п.)\n",
    "\n",
    "После написания функции необходимо добавить несколько игроков."
   ]
  },
  {
   "cell_type": "code",
   "execution_count": 61,
   "metadata": {},
   "outputs": [],
   "source": [
    "import datetime\n",
    "def insertPlayer(name, age, posName, teamName, startPlay = None):\n",
    "    \n",
    "    # проверим возраст игрока\n",
    "    if (age < 10 or age > 50):\n",
    "        print('Error: wrong age!')\n",
    "        return -1\n",
    "    \n",
    "    cur = db.cursor()\n",
    "    \n",
    "    # проверим позицию игрока\n",
    "    cur.execute('''SELECT id FROM Positions WHERE name = ?''', (posName,)) # выведет, если есть позиция\n",
    "    try:\n",
    "        posID = cur.fetchone()[0]\n",
    "    except TypeError:\n",
    "        print('Error: wrong position!')\n",
    "        return -1\n",
    "\n",
    "    # проверим название команды игрока\n",
    "    cur.execute('''SELECT id FROM Teams WHERE name = ?''', (teamName,)) # выведет, если есть позиция\n",
    "    try:\n",
    "        teamID = cur.fetchone()[0]\n",
    "    except TypeError:\n",
    "        print('Error: wrong team name!')\n",
    "        return -1\n",
    "    \n",
    "    # проверим название команды игрока\n",
    "    if (startPlay == None):\n",
    "        startPlay = date.today()\n",
    "    else:\n",
    "        try:\n",
    "            datetime.datetime.strptime(startPlay,\"%Y-%m-%d\")\n",
    "        except ValueError:\n",
    "            print('Error: wrong date!')\n",
    "            return -1\n",
    "        \n",
    "    cur.execute( '''SELECT COALESCE(MAX(id)+1, 1) FROM Players''')\n",
    "    id = cur.fetchone()[0]\n",
    "    cur.execute('''INSERT INTO Players(id, name, age, pos_id, team_id, start_date) VALUES(?,?,?,?,?,?)''',\n",
    "    (id, name, age, posID, teamID, startPlay))\n",
    "    db.commit()\n",
    "    print(\"Successfully added!\")"
   ]
  },
  {
   "cell_type": "code",
   "execution_count": 62,
   "metadata": {},
   "outputs": [
    {
     "name": "stdout",
     "output_type": "stream",
     "text": [
      "Error: wrong position!\n",
      "Error: wrong age!\n",
      "Error: wrong position!\n",
      "Error: wrong date!\n",
      "Successfully added!\n"
     ]
    }
   ],
   "source": [
    "insertPlayer('Роналдо', 32, 'Нападающий', 'Реал Мадрид', None)\n",
    "insertPlayer('Роналдо', 54, 'Нападающий', 'Реал Мадрид', None)\n",
    "insertPlayer('Роналдо', 32, 'Нападающий', 'Мадрид', None)\n",
    "insertPlayer('Роналдо', 32, 'нападающий', 'Реал Мадрид', '111-12')\n",
    "insertPlayer('Роналдо', 32, 'нападающий', 'Реал Мадрид', '2009-12-12')"
   ]
  },
  {
   "cell_type": "code",
   "execution_count": 63,
   "metadata": {},
   "outputs": [
    {
     "name": "stdout",
     "output_type": "stream",
     "text": [
      " * sqlite:///lab3-1.db\n",
      "Done.\n"
     ]
    },
    {
     "data": {
      "text/html": [
       "<table>\n",
       "    <tr>\n",
       "        <th>id</th>\n",
       "        <th>name</th>\n",
       "        <th>age</th>\n",
       "        <th>pos_id</th>\n",
       "        <th>team_id</th>\n",
       "        <th>start_date</th>\n",
       "    </tr>\n",
       "    <tr>\n",
       "        <td>1</td>\n",
       "        <td>Роналдо</td>\n",
       "        <td>32</td>\n",
       "        <td>4</td>\n",
       "        <td>1</td>\n",
       "        <td>2009-12-12</td>\n",
       "    </tr>\n",
       "</table>"
      ],
      "text/plain": [
       "[(1, 'Роналдо', 32, 4, 1, '2009-12-12')]"
      ]
     },
     "execution_count": 63,
     "metadata": {},
     "output_type": "execute_result"
    }
   ],
   "source": [
    "%%sql\n",
    "SELECT *\n",
    "FROM Players"
   ]
  },
  {
   "cell_type": "markdown",
   "metadata": {},
   "source": [
    "# Задание 7\n",
    "Написать функцию для перевода игрока в другую команду. Данная функция должна осуществить архивирование текущей записи в таблице игроков в таблицу players_archive с заполнение end_date - датой начала игры за новую команду - 1 день. А также осуществлять изменение поля в таблице Players. При возникновении ошибки должен осуществляться полный откат транзакции."
   ]
  },
  {
   "cell_type": "code",
   "execution_count": 64,
   "metadata": {},
   "outputs": [],
   "source": [
    "import datetime\n",
    "def transaction_team_player(player,old_team,new_team,start_date_new_team):\n",
    "\n",
    "    old_team_id = check_team(old_team)\n",
    "    if old_team_id==-1:\n",
    "        return -1\n",
    "\n",
    "    new_team_id = check_team(new_team)\n",
    "    if new_team_id==-1:\n",
    "        return -1\n",
    "    player_id = check_player(player,old_team_id)\n",
    "    if player_id==-1:\n",
    "        return -1\n",
    "\n",
    "    cur = db.cursor()\n",
    "    cur.execute('''select start_date from Players where ID = ?''', (player_id,))\n",
    "    start_date_old_team=cur.fetchone()[0]\n",
    "\n",
    "    end_date_old_team=datetime.datetime.strptime(start_date_new_team,\"%Y-%m-%d\")\n",
    "    end_date_old_team=(end_date_old_team - datetime.timedelta(days=1)).strftime(\"%Y-%m-%d\")\n",
    "\n",
    "    try:\n",
    "        cur.execute('''insert into PlayersArchive(player_id, team_id, start_date, end_date) VALUES(?,?,?,?)''',\n",
    "        (player_id,old_team_id,start_date_old_team,end_date_old_team))\n",
    "        cur.execute('''Update Players set start_date = ?,team_id = ? where ID = ?''',\n",
    "        (start_date_new_team,new_team_id,player_id))\n",
    "        db.commit()\n",
    "    except db.Error:\n",
    "        print('FAILED!!!')\n",
    "        db.rollback()\n",
    "\n",
    "def check_player(player,team_id):\n",
    "    cur = db.cursor()\n",
    "    cur.execute('''select ID from Players where player_name = ? and team_id = ?''', (player,team_id))\n",
    "    try:\n",
    "        player_id = cur.fetchone()[0]\n",
    "        return player_id\n",
    "    except TypeError:\n",
    "        print('This player does not exist')\n",
    "        return -1\n",
    "\n",
    "def check_team(old_team):\n",
    "    cur = db.cursor()\n",
    "    cur.execute('''select ID from Teams where team_name = ?''', (old_team,))\n",
    "    try:\n",
    "        team_id = cur.fetchone()[0]\n",
    "        return team_id\n",
    "    except TypeError:\n",
    "        print('Such a team does not exist')\n",
    "        return -1"
   ]
  },
  {
   "cell_type": "code",
   "execution_count": 65,
   "metadata": {},
   "outputs": [],
   "source": [
    "import datetime\n",
    "def playerTransfer(name, oldTeam ,newTeam, start_dateNewTeam):\n",
    "    cur = db.cursor()\n",
    "\n",
    "    # проверим существование игрока\n",
    "    cur.execute('''SELECT id FROM Players WHERE name = ?''', (name,))\n",
    "    try:\n",
    "        playerID = cur.fetchone()[0]\n",
    "    except TypeError:\n",
    "        print(('Error: wrong player!'))\n",
    "        return -1\n",
    "    \n",
    "    # проверим старую команду игрока\n",
    "    cur.execute('''SELECT id FROM Teams WHERE name = ?''', (oldTeam,))\n",
    "    try:\n",
    "        oldTeamID = cur.fetchone()[0]\n",
    "    except TypeError:\n",
    "        print(('Error: wrong oldTeam!'))\n",
    "        return -1\n",
    "    \n",
    "    # проверим новую команду игрока\n",
    "    cur.execute('''SELECT id FROM Teams WHERE name = ?''', (newTeam,))\n",
    "    try:\n",
    "        newTeamID = cur.fetchone()[0]\n",
    "    except TypeError:\n",
    "        print(('Error: wrong newTeam!'))\n",
    "        return -1\n",
    "    \n",
    "    cur.execute('''SELECT start_date FROM Players WHERE id = ?''', (playerID,))\n",
    "    start_dateOldTeam=cur.fetchone()[0]\n",
    "\n",
    "    end_dateOldTeam=datetime.datetime.strptime(start_dateNewTeam,\"%Y-%m-%d\")\n",
    "    end_dateOldTeam=(end_dateOldTeam - datetime.timedelta(days=1)).strftime(\"%Y-%m-%d\")\n",
    "\n",
    "    try:\n",
    "        cur.execute('''INSERT INTO PlayersArchive(player_id, team_id, start_date, end_date) VALUES(?,?,?,?)''',\n",
    "                    (playerID, oldTeamID, start_dateOldTeam, end_dateOldTeam))\n",
    "        cur.execute('''UPDATE Players SET start_date = ?, team_id = ? WHERE id = ?''',\n",
    "                    (start_dateNewTeam, newTeamID, playerID))\n",
    "        db.commit()\n",
    "    except db.Error:\n",
    "        print('Error: transfer failed!')\n",
    "        #db.rollback() # - отмена транзакции"
   ]
  },
  {
   "cell_type": "code",
   "execution_count": 66,
   "metadata": {},
   "outputs": [],
   "source": [
    "#playerTransfer(\"Роналдо\", \"Реал Мадрид\", \"Манчестер сити\", \"2010-12-12\")"
   ]
  },
  {
   "cell_type": "code",
   "execution_count": 67,
   "metadata": {},
   "outputs": [
    {
     "name": "stdout",
     "output_type": "stream",
     "text": [
      " * sqlite:///lab3-1.db\n",
      "Done.\n"
     ]
    },
    {
     "data": {
      "text/html": [
       "<table>\n",
       "    <tr>\n",
       "        <th>player_id</th>\n",
       "        <th>team_id</th>\n",
       "        <th>start_date</th>\n",
       "        <th>end_date</th>\n",
       "    </tr>\n",
       "</table>"
      ],
      "text/plain": [
       "[]"
      ]
     },
     "execution_count": 67,
     "metadata": {},
     "output_type": "execute_result"
    }
   ],
   "source": [
    "%%sql\n",
    "SELECT *\n",
    "FROM PlayersArchive"
   ]
  },
  {
   "cell_type": "code",
   "execution_count": 68,
   "metadata": {},
   "outputs": [
    {
     "name": "stdout",
     "output_type": "stream",
     "text": [
      " * sqlite:///lab3-1.db\n",
      "Done.\n"
     ]
    },
    {
     "data": {
      "text/html": [
       "<table>\n",
       "    <tr>\n",
       "        <th>id</th>\n",
       "        <th>name</th>\n",
       "        <th>age</th>\n",
       "        <th>pos_id</th>\n",
       "        <th>team_id</th>\n",
       "        <th>start_date</th>\n",
       "    </tr>\n",
       "    <tr>\n",
       "        <td>1</td>\n",
       "        <td>Роналдо</td>\n",
       "        <td>32</td>\n",
       "        <td>4</td>\n",
       "        <td>1</td>\n",
       "        <td>2009-12-12</td>\n",
       "    </tr>\n",
       "</table>"
      ],
      "text/plain": [
       "[(1, 'Роналдо', 32, 4, 1, '2009-12-12')]"
      ]
     },
     "execution_count": 68,
     "metadata": {},
     "output_type": "execute_result"
    }
   ],
   "source": [
    "%%sql\n",
    "SELECT *\n",
    "FROM Players"
   ]
  },
  {
   "cell_type": "code",
   "execution_count": 69,
   "metadata": {},
   "outputs": [
    {
     "name": "stdout",
     "output_type": "stream",
     "text": [
      " * sqlite:///lab3-1.db\n",
      "Done.\n"
     ]
    },
    {
     "data": {
      "text/html": [
       "<table>\n",
       "    <tr>\n",
       "        <th>id</th>\n",
       "        <th>name</th>\n",
       "        <th>location</th>\n",
       "        <th>coach_id</th>\n",
       "    </tr>\n",
       "    <tr>\n",
       "        <td>1</td>\n",
       "        <td>Реал Мадрид</td>\n",
       "        <td>Барселона</td>\n",
       "        <td>1</td>\n",
       "    </tr>\n",
       "    <tr>\n",
       "        <td>2</td>\n",
       "        <td>Манчестер сити</td>\n",
       "        <td>Манчестер</td>\n",
       "        <td>3</td>\n",
       "    </tr>\n",
       "    <tr>\n",
       "        <td>3</td>\n",
       "        <td>ПСЖ</td>\n",
       "        <td>Лион</td>\n",
       "        <td>2</td>\n",
       "    </tr>\n",
       "</table>"
      ],
      "text/plain": [
       "[(1, 'Реал Мадрид', 'Барселона', 1),\n",
       " (2, 'Манчестер сити', 'Манчестер', 3),\n",
       " (3, 'ПСЖ', 'Лион', 2)]"
      ]
     },
     "execution_count": 69,
     "metadata": {},
     "output_type": "execute_result"
    }
   ],
   "source": [
    "%%sql\n",
    "SELECT *\n",
    "FROM Teams"
   ]
  },
  {
   "cell_type": "code",
   "execution_count": 70,
   "metadata": {},
   "outputs": [
    {
     "name": "stdout",
     "output_type": "stream",
     "text": [
      "Successfully added!\n"
     ]
    }
   ],
   "source": [
    "insertPlayer('1', 27, 'нападающий', 'Реал Мадрид', '2010-11-10')\n",
    "playerTransfer(\"Роналдо\", \"Реал Мадрид\", \"Манчестер сити\", \"2011-12-12\")\n",
    "playerTransfer(\"Роналдо\", \"Манчестер сити\", \"ПСЖ\", \"2012-12-12\")\n",
    "playerTransfer(\"Роналдо\", \"ПСЖ\", \"Реал Мадрид\", \"2013-12-12\")\n",
    "playerTransfer(\"Роналдо\", \"Реал Мадрид\", \"Манчестер сити\", \"2014-12-12\")\n",
    "playerTransfer(\"Роналдо\", \"Манчестер сити\", \"ПСЖ\", \"2015-12-12\")"
   ]
  },
  {
   "cell_type": "code",
   "execution_count": 73,
   "metadata": {},
   "outputs": [
    {
     "name": "stdout",
     "output_type": "stream",
     "text": [
      " * sqlite:///lab3-1.db\n",
      "Done.\n"
     ]
    },
    {
     "data": {
      "text/html": [
       "<table>\n",
       "    <tr>\n",
       "        <th>player_id</th>\n",
       "        <th>team_id</th>\n",
       "        <th>start_date</th>\n",
       "        <th>end_date</th>\n",
       "    </tr>\n",
       "    <tr>\n",
       "        <td>1</td>\n",
       "        <td>1</td>\n",
       "        <td>2009-12-12</td>\n",
       "        <td>2011-12-11</td>\n",
       "    </tr>\n",
       "    <tr>\n",
       "        <td>1</td>\n",
       "        <td>2</td>\n",
       "        <td>2011-12-12</td>\n",
       "        <td>2012-12-11</td>\n",
       "    </tr>\n",
       "    <tr>\n",
       "        <td>1</td>\n",
       "        <td>3</td>\n",
       "        <td>2012-12-12</td>\n",
       "        <td>2013-12-11</td>\n",
       "    </tr>\n",
       "    <tr>\n",
       "        <td>1</td>\n",
       "        <td>1</td>\n",
       "        <td>2013-12-12</td>\n",
       "        <td>2014-12-11</td>\n",
       "    </tr>\n",
       "    <tr>\n",
       "        <td>1</td>\n",
       "        <td>2</td>\n",
       "        <td>2014-12-12</td>\n",
       "        <td>2015-12-11</td>\n",
       "    </tr>\n",
       "</table>"
      ],
      "text/plain": [
       "[(1, 1, '2009-12-12', '2011-12-11'),\n",
       " (1, 2, '2011-12-12', '2012-12-11'),\n",
       " (1, 3, '2012-12-12', '2013-12-11'),\n",
       " (1, 1, '2013-12-12', '2014-12-11'),\n",
       " (1, 2, '2014-12-12', '2015-12-11')]"
      ]
     },
     "execution_count": 73,
     "metadata": {},
     "output_type": "execute_result"
    }
   ],
   "source": [
    "%%sql\n",
    "SELECT *\n",
    "FROM PlayersArchive"
   ]
  },
  {
   "cell_type": "code",
   "execution_count": 72,
   "metadata": {},
   "outputs": [],
   "source": [
    "db.close()\n"
   ]
  }
 ],
 "metadata": {
  "kernelspec": {
   "display_name": "Python 3",
   "language": "python",
   "name": "python3"
  },
  "language_info": {
   "codemirror_mode": {
    "name": "ipython",
    "version": 3
   },
   "file_extension": ".py",
   "mimetype": "text/x-python",
   "name": "python",
   "nbconvert_exporter": "python",
   "pygments_lexer": "ipython3",
   "version": "3.7.3"
  }
 },
 "nbformat": 4,
 "nbformat_minor": 2
}
