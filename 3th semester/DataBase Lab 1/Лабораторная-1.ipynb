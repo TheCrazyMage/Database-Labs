{
 "cells": [
  {
   "cell_type": "markdown",
   "metadata": {},
   "source": [
    "Добро пожаловать в IPython Notebook\n",
    "--------------------------\n",
    "\n",
    "Данный notebook печатает классическое `\"Hello world!`.\n",
    "\n",
    "Для запуска блока команд, нажмите на него, и используйте SHIFT+ENTER\n",
    "\n",
    "Также есть дополнительные keyboard hotkeys (описанные в меню Help)"
   ]
  },
  {
   "cell_type": "markdown",
   "metadata": {},
   "source": [
    "Проверим, что у вас подключена возможность работы с SQL"
   ]
  },
  {
   "cell_type": "code",
   "execution_count": 24,
   "metadata": {},
   "outputs": [
    {
     "name": "stdout",
     "output_type": "stream",
     "text": [
      "The sql extension is already loaded. To reload it, use:\n",
      "  %reload_ext sql\n"
     ]
    },
    {
     "data": {
      "text/plain": [
       "'Connected: @tst_1.db'"
      ]
     },
     "execution_count": 24,
     "metadata": {},
     "output_type": "execute_result"
    }
   ],
   "source": [
    "%load_ext sql\n",
    "%sql sqlite:///tst_1.db"
   ]
  },
  {
   "cell_type": "markdown",
   "metadata": {},
   "source": [
    "Однострочный SQL-запрос"
   ]
  },
  {
   "cell_type": "code",
   "execution_count": 25,
   "metadata": {},
   "outputs": [
    {
     "name": "stdout",
     "output_type": "stream",
     "text": [
      " * sqlite:///tst_1.db\n",
      "Done.\n"
     ]
    },
    {
     "data": {
      "text/html": [
       "<table>\n",
       "    <tr>\n",
       "        <th>1</th>\n",
       "    </tr>\n",
       "    <tr>\n",
       "        <td>1</td>\n",
       "    </tr>\n",
       "</table>"
      ],
      "text/plain": [
       "[(1,)]"
      ]
     },
     "execution_count": 25,
     "metadata": {},
     "output_type": "execute_result"
    }
   ],
   "source": [
    "%sql SELECT 1"
   ]
  },
  {
   "cell_type": "markdown",
   "metadata": {},
   "source": [
    "Многострочный SQL-запрос"
   ]
  },
  {
   "cell_type": "code",
   "execution_count": 26,
   "metadata": {},
   "outputs": [
    {
     "name": "stdout",
     "output_type": "stream",
     "text": [
      " * sqlite:///tst_1.db\n",
      "Done.\n"
     ]
    },
    {
     "data": {
      "text/html": [
       "<table>\n",
       "    <tr>\n",
       "        <th>1</th>\n",
       "    </tr>\n",
       "    <tr>\n",
       "        <td>1</td>\n",
       "    </tr>\n",
       "    <tr>\n",
       "        <td>2</td>\n",
       "    </tr>\n",
       "</table>"
      ],
      "text/plain": [
       "[(1,), (2,)]"
      ]
     },
     "execution_count": 26,
     "metadata": {},
     "output_type": "execute_result"
    }
   ],
   "source": [
    "%%sql\n",
    "SELECT 1\n",
    "UNION\n",
    "SELECT 2"
   ]
  },
  {
   "cell_type": "markdown",
   "metadata": {},
   "source": [
    "Создадим таблицу Факультетов со следующими полями:\n",
    "1. fac_id - уникальный идентификатор факультета\n",
    "2. Name - Имя факультета"
   ]
  },
  {
   "cell_type": "code",
   "execution_count": 38,
   "metadata": {},
   "outputs": [
    {
     "name": "stdout",
     "output_type": "stream",
     "text": [
      " * sqlite:///tst_1.db\n",
      "Done.\n",
      "Done.\n"
     ]
    },
    {
     "data": {
      "text/plain": [
       "[]"
      ]
     },
     "execution_count": 38,
     "metadata": {},
     "output_type": "execute_result"
    }
   ],
   "source": [
    "%%sql\n",
    "\n",
    "DROP TABLE IF EXISTS Faculties;\n",
    "CREATE TABLE Faculties \n",
    "(\n",
    "    fac_id INTEGER PRIMARY KEY, \n",
    "    Name VARCHAR(50)\n",
    ");"
   ]
  },
  {
   "cell_type": "markdown",
   "metadata": {},
   "source": [
    "Проверим, что таблица создана"
   ]
  },
  {
   "cell_type": "code",
   "execution_count": 39,
   "metadata": {},
   "outputs": [
    {
     "name": "stdout",
     "output_type": "stream",
     "text": [
      " * sqlite:///tst_1.db\n",
      "Done.\n"
     ]
    },
    {
     "data": {
      "text/html": [
       "<table>\n",
       "    <tr>\n",
       "        <th>fac_id</th>\n",
       "        <th>Name</th>\n",
       "    </tr>\n",
       "</table>"
      ],
      "text/plain": [
       "[]"
      ]
     },
     "execution_count": 39,
     "metadata": {},
     "output_type": "execute_result"
    }
   ],
   "source": [
    "%sql SELECT * from Faculties"
   ]
  },
  {
   "cell_type": "markdown",
   "metadata": {},
   "source": [
    "Заполним таблицу данными"
   ]
  },
  {
   "cell_type": "code",
   "execution_count": 41,
   "metadata": {},
   "outputs": [
    {
     "name": "stdout",
     "output_type": "stream",
     "text": [
      " * sqlite:///tst_1.db\n",
      "1 rows affected.\n",
      "1 rows affected.\n",
      "1 rows affected.\n"
     ]
    },
    {
     "data": {
      "text/plain": [
       "[]"
      ]
     },
     "execution_count": 41,
     "metadata": {},
     "output_type": "execute_result"
    }
   ],
   "source": [
    "%%sql\n",
    "INSERT INTO Faculties(fac_id, name) VALUES (1, 'KIB');\n",
    "INSERT INTO Faculties(fac_id, name) VALUES (2, 'IT');\n",
    "INSERT INTO Faculties(fac_id, name) VALUES (3, 'Economics');"
   ]
  },
  {
   "cell_type": "markdown",
   "metadata": {},
   "source": [
    "SQLite требует включение поддержки внешних ключей.\n",
    "Более подробно можно посмотреть [здесь](https://sqlite.org/foreignkeys.html)"
   ]
  },
  {
   "cell_type": "code",
   "execution_count": 42,
   "metadata": {},
   "outputs": [
    {
     "name": "stdout",
     "output_type": "stream",
     "text": [
      " * sqlite:///tst_1.db\n",
      "Done.\n"
     ]
    },
    {
     "data": {
      "text/plain": [
       "[]"
      ]
     },
     "execution_count": 42,
     "metadata": {},
     "output_type": "execute_result"
    }
   ],
   "source": [
    "%%sql\n",
    "PRAGMA foreign_keys = ON;"
   ]
  },
  {
   "cell_type": "markdown",
   "metadata": {},
   "source": [
    "Создадим таблицу Студентов со следующими полями:\n",
    "1. Student_id - уникальный идентификатор студента\n",
    "2. Name - имя студента\n",
    "3. Second Name - фамилия студенты\n",
    "4. Faculty - факультет студента\n",
    "5. StudyGroup - группа студента \n",
    "6. GPA - средний балл"
   ]
  },
  {
   "cell_type": "code",
   "execution_count": 44,
   "metadata": {},
   "outputs": [
    {
     "name": "stdout",
     "output_type": "stream",
     "text": [
      " * sqlite:///tst_1.db\n",
      "Done.\n",
      "Done.\n"
     ]
    },
    {
     "data": {
      "text/plain": [
       "[]"
      ]
     },
     "execution_count": 44,
     "metadata": {},
     "output_type": "execute_result"
    }
   ],
   "source": [
    "%%sql \n",
    "drop table if exists Students;\n",
    "\n",
    "CREATE TABLE Students \n",
    "(\n",
    "    student_id INTEGER PRIMARY KEY, \n",
    "    Name VARCHAR(50),\n",
    "    SecondName VARCHAR(50), \n",
    "    Faculty_id INTEGER ,\n",
    "    StudyGroup VARCHAR(20),\n",
    "    GPA NUMBER,\n",
    "    FOREIGN KEY(faculty_id) REFERENCES Faculties(fac_id)\n",
    ");"
   ]
  },
  {
   "cell_type": "markdown",
   "metadata": {},
   "source": [
    "Проверим, что таблица создана"
   ]
  },
  {
   "cell_type": "code",
   "execution_count": 45,
   "metadata": {},
   "outputs": [
    {
     "name": "stdout",
     "output_type": "stream",
     "text": [
      " * sqlite:///tst_1.db\n",
      "Done.\n"
     ]
    },
    {
     "data": {
      "text/html": [
       "<table>\n",
       "    <tr>\n",
       "        <th>student_id</th>\n",
       "        <th>Name</th>\n",
       "        <th>SecondName</th>\n",
       "        <th>Faculty_id</th>\n",
       "        <th>StudyGroup</th>\n",
       "        <th>GPA</th>\n",
       "    </tr>\n",
       "</table>"
      ],
      "text/plain": [
       "[]"
      ]
     },
     "execution_count": 45,
     "metadata": {},
     "output_type": "execute_result"
    }
   ],
   "source": [
    "%sql SELECT * from Students"
   ]
  },
  {
   "cell_type": "markdown",
   "metadata": {},
   "source": [
    "Заполним таблице данными"
   ]
  },
  {
   "cell_type": "code",
   "execution_count": 46,
   "metadata": {},
   "outputs": [
    {
     "name": "stdout",
     "output_type": "stream",
     "text": [
      " * sqlite:///tst_1.db\n",
      "1 rows affected.\n",
      "1 rows affected.\n",
      "1 rows affected.\n",
      "1 rows affected.\n",
      "1 rows affected.\n"
     ]
    },
    {
     "data": {
      "text/plain": [
       "[]"
      ]
     },
     "execution_count": 46,
     "metadata": {},
     "output_type": "execute_result"
    }
   ],
   "source": [
    "%%sql\n",
    "INSERT INTO Students(student_id, Name, SecondName, Faculty_id, StudyGroup, GPA) VALUES (1, 'Anton', 'Sidorov', 1, '101', 3.5);\n",
    "INSERT INTO Students(student_id, Name, SecondName, Faculty_id, StudyGroup, GPA) VALUES (2, 'Alexey', 'Petrov', 2, '201', 3.3);\n",
    "INSERT INTO Students(student_id, Name, SecondName, Faculty_id, StudyGroup, GPA) VALUES (3, 'Ivan', 'Meshkov', 1, '101', 4.5);\n",
    "INSERT INTO Students(student_id, Name, SecondName, Faculty_id, StudyGroup, GPA) VALUES (4, 'Elena', 'Kvitova', 3, '301', 4.8);\n",
    "INSERT INTO Students(student_id, Name, SecondName, Faculty_id, StudyGroup, GPA) VALUES (5, 'Darya', 'Salnikova', 2, '202', 3.4);"
   ]
  },
  {
   "cell_type": "markdown",
   "metadata": {},
   "source": [
    "Проверим наличие данных"
   ]
  },
  {
   "cell_type": "code",
   "execution_count": 47,
   "metadata": {},
   "outputs": [
    {
     "name": "stdout",
     "output_type": "stream",
     "text": [
      " * sqlite:///tst_1.db\n",
      "Done.\n"
     ]
    },
    {
     "data": {
      "text/html": [
       "<table>\n",
       "    <tr>\n",
       "        <th>student_id</th>\n",
       "        <th>Name</th>\n",
       "        <th>SecondName</th>\n",
       "        <th>Faculty_id</th>\n",
       "        <th>StudyGroup</th>\n",
       "        <th>GPA</th>\n",
       "    </tr>\n",
       "    <tr>\n",
       "        <td>1</td>\n",
       "        <td>Anton</td>\n",
       "        <td>Sidorov</td>\n",
       "        <td>1</td>\n",
       "        <td>101</td>\n",
       "        <td>3.5</td>\n",
       "    </tr>\n",
       "    <tr>\n",
       "        <td>2</td>\n",
       "        <td>Alexey</td>\n",
       "        <td>Petrov</td>\n",
       "        <td>2</td>\n",
       "        <td>201</td>\n",
       "        <td>3.3</td>\n",
       "    </tr>\n",
       "    <tr>\n",
       "        <td>3</td>\n",
       "        <td>Ivan</td>\n",
       "        <td>Meshkov</td>\n",
       "        <td>1</td>\n",
       "        <td>101</td>\n",
       "        <td>4.5</td>\n",
       "    </tr>\n",
       "    <tr>\n",
       "        <td>4</td>\n",
       "        <td>Elena</td>\n",
       "        <td>Kvitova</td>\n",
       "        <td>3</td>\n",
       "        <td>301</td>\n",
       "        <td>4.8</td>\n",
       "    </tr>\n",
       "    <tr>\n",
       "        <td>5</td>\n",
       "        <td>Darya</td>\n",
       "        <td>Salnikova</td>\n",
       "        <td>2</td>\n",
       "        <td>202</td>\n",
       "        <td>3.4</td>\n",
       "    </tr>\n",
       "</table>"
      ],
      "text/plain": [
       "[(1, 'Anton', 'Sidorov', 1, '101', 3.5),\n",
       " (2, 'Alexey', 'Petrov', 2, '201', 3.3),\n",
       " (3, 'Ivan', 'Meshkov', 1, '101', 4.5),\n",
       " (4, 'Elena', 'Kvitova', 3, '301', 4.8),\n",
       " (5, 'Darya', 'Salnikova', 2, '202', 3.4)]"
      ]
     },
     "execution_count": 47,
     "metadata": {},
     "output_type": "execute_result"
    }
   ],
   "source": [
    "%sql SELECT * from Students"
   ]
  },
  {
   "cell_type": "markdown",
   "metadata": {},
   "source": [
    "## Задание 1. Напишите SQL-запрос, возвращающий ваше имя"
   ]
  },
  {
   "cell_type": "code",
   "execution_count": 48,
   "metadata": {},
   "outputs": [
    {
     "name": "stdout",
     "output_type": "stream",
     "text": [
      " * sqlite:///tst_1.db\n",
      "Done.\n"
     ]
    },
    {
     "data": {
      "text/html": [
       "<table>\n",
       "    <tr>\n",
       "        <th>&quot;Мишан&quot;</th>\n",
       "    </tr>\n",
       "    <tr>\n",
       "        <td>Мишан</td>\n",
       "    </tr>\n",
       "</table>"
      ],
      "text/plain": [
       "[('Мишан',)]"
      ]
     },
     "execution_count": 48,
     "metadata": {},
     "output_type": "execute_result"
    }
   ],
   "source": [
    "%sql SELECT \"Мишан\""
   ]
  },
  {
   "cell_type": "markdown",
   "metadata": {},
   "source": [
    "## Задание 2. Напишите SQL-запрос, возвращающий имена всех студентов с фамилией Sidorov"
   ]
  },
  {
   "cell_type": "code",
   "execution_count": 49,
   "metadata": {},
   "outputs": [
    {
     "name": "stdout",
     "output_type": "stream",
     "text": [
      " * sqlite:///tst_1.db\n",
      "Done.\n"
     ]
    },
    {
     "data": {
      "text/html": [
       "<table>\n",
       "    <tr>\n",
       "        <th>Name</th>\n",
       "    </tr>\n",
       "    <tr>\n",
       "        <td>Anton</td>\n",
       "    </tr>\n",
       "</table>"
      ],
      "text/plain": [
       "[('Anton',)]"
      ]
     },
     "execution_count": 49,
     "metadata": {},
     "output_type": "execute_result"
    }
   ],
   "source": [
    "%%sql\n",
    "SELECT Name\n",
    "FROM students\n",
    "WHERE secondName = \"Sidorov\""
   ]
  },
  {
   "cell_type": "markdown",
   "metadata": {},
   "source": [
    "## Задание 3. Выведите все названия факультетов, на которых учится хотя бы один студент со средним баллом не менее 4. Имя факультета должно встречаться один раз в выводе "
   ]
  },
  {
   "cell_type": "code",
   "execution_count": 51,
   "metadata": {},
   "outputs": [
    {
     "name": "stdout",
     "output_type": "stream",
     "text": [
      " * sqlite:///tst_1.db\n",
      "Done.\n"
     ]
    },
    {
     "data": {
      "text/html": [
       "<table>\n",
       "    <tr>\n",
       "        <th>Name</th>\n",
       "    </tr>\n",
       "    <tr>\n",
       "        <td>KIB</td>\n",
       "    </tr>\n",
       "    <tr>\n",
       "        <td>Economics</td>\n",
       "    </tr>\n",
       "</table>"
      ],
      "text/plain": [
       "[('KIB',), ('Economics',)]"
      ]
     },
     "execution_count": 51,
     "metadata": {},
     "output_type": "execute_result"
    }
   ],
   "source": [
    "%%sql\n",
    "SELECT DISTINCT Faculties.name\n",
    "FROM Students, Faculties\n",
    "WHERE (fac_id = Faculty_id) AND (GPA >= 4)"
   ]
  },
  {
   "cell_type": "markdown",
   "metadata": {
    "collapsed": true
   },
   "source": [
    "## Задание 4. Вывести только тех студентов, фамилия которых начинается с 'S', а в имени присутствует 'a'."
   ]
  },
  {
   "cell_type": "code",
   "execution_count": 52,
   "metadata": {},
   "outputs": [
    {
     "name": "stdout",
     "output_type": "stream",
     "text": [
      " * sqlite:///tst_1.db\n",
      "Done.\n"
     ]
    },
    {
     "data": {
      "text/html": [
       "<table>\n",
       "    <tr>\n",
       "        <th>student_id</th>\n",
       "        <th>Name</th>\n",
       "        <th>SecondName</th>\n",
       "        <th>Faculty_id</th>\n",
       "        <th>StudyGroup</th>\n",
       "        <th>GPA</th>\n",
       "    </tr>\n",
       "    <tr>\n",
       "        <td>5</td>\n",
       "        <td>Darya</td>\n",
       "        <td>Salnikova</td>\n",
       "        <td>2</td>\n",
       "        <td>202</td>\n",
       "        <td>3.4</td>\n",
       "    </tr>\n",
       "</table>"
      ],
      "text/plain": [
       "[(5, 'Darya', 'Salnikova', 2, '202', 3.4)]"
      ]
     },
     "execution_count": 52,
     "metadata": {},
     "output_type": "execute_result"
    }
   ],
   "source": [
    "%%sql\n",
    "SELECT *\n",
    "FROM Students\n",
    "WHERE (Name LIKE \"%a%\") AND (SecondName LIKE \"S%\") AND NOT(Name LIKE \"A%\")"
   ]
  },
  {
   "cell_type": "markdown",
   "metadata": {},
   "source": [
    "## Задание 5. Вывести только те факультеты, количество групп в которых больше 3"
   ]
  },
  {
   "cell_type": "code",
   "execution_count": 53,
   "metadata": {},
   "outputs": [
    {
     "name": "stdout",
     "output_type": "stream",
     "text": [
      " * sqlite:///tst_1.db\n",
      "1 rows affected.\n",
      "1 rows affected.\n",
      "1 rows affected.\n",
      "1 rows affected.\n",
      "Done.\n"
     ]
    },
    {
     "data": {
      "text/html": [
       "<table>\n",
       "    <tr>\n",
       "        <th>student_id</th>\n",
       "        <th>Name</th>\n",
       "        <th>SecondName</th>\n",
       "        <th>Faculty_id</th>\n",
       "        <th>StudyGroup</th>\n",
       "        <th>GPA</th>\n",
       "    </tr>\n",
       "    <tr>\n",
       "        <td>1</td>\n",
       "        <td>Anton</td>\n",
       "        <td>Sidorov</td>\n",
       "        <td>1</td>\n",
       "        <td>101</td>\n",
       "        <td>3.5</td>\n",
       "    </tr>\n",
       "    <tr>\n",
       "        <td>2</td>\n",
       "        <td>Alexey</td>\n",
       "        <td>Petrov</td>\n",
       "        <td>2</td>\n",
       "        <td>201</td>\n",
       "        <td>3.3</td>\n",
       "    </tr>\n",
       "    <tr>\n",
       "        <td>3</td>\n",
       "        <td>Ivan</td>\n",
       "        <td>Meshkov</td>\n",
       "        <td>1</td>\n",
       "        <td>101</td>\n",
       "        <td>4.5</td>\n",
       "    </tr>\n",
       "    <tr>\n",
       "        <td>4</td>\n",
       "        <td>Elena</td>\n",
       "        <td>Kvitova</td>\n",
       "        <td>3</td>\n",
       "        <td>301</td>\n",
       "        <td>4.8</td>\n",
       "    </tr>\n",
       "    <tr>\n",
       "        <td>5</td>\n",
       "        <td>Darya</td>\n",
       "        <td>Salnikova</td>\n",
       "        <td>2</td>\n",
       "        <td>202</td>\n",
       "        <td>3.4</td>\n",
       "    </tr>\n",
       "    <tr>\n",
       "        <td>6</td>\n",
       "        <td>Mishan</td>\n",
       "        <td>Aliev</td>\n",
       "        <td>2</td>\n",
       "        <td>203</td>\n",
       "        <td>5</td>\n",
       "    </tr>\n",
       "    <tr>\n",
       "        <td>7</td>\n",
       "        <td>Misha</td>\n",
       "        <td>Aviev</td>\n",
       "        <td>2</td>\n",
       "        <td>204</td>\n",
       "        <td>4.7</td>\n",
       "    </tr>\n",
       "    <tr>\n",
       "        <td>8</td>\n",
       "        <td>Masha</td>\n",
       "        <td>Aeva</td>\n",
       "        <td>2</td>\n",
       "        <td>205</td>\n",
       "        <td>4.3</td>\n",
       "    </tr>\n",
       "    <tr>\n",
       "        <td>9</td>\n",
       "        <td>Maria</td>\n",
       "        <td>Weva</td>\n",
       "        <td>2</td>\n",
       "        <td>205</td>\n",
       "        <td>5.2</td>\n",
       "    </tr>\n",
       "</table>"
      ],
      "text/plain": [
       "[(1, 'Anton', 'Sidorov', 1, '101', 3.5),\n",
       " (2, 'Alexey', 'Petrov', 2, '201', 3.3),\n",
       " (3, 'Ivan', 'Meshkov', 1, '101', 4.5),\n",
       " (4, 'Elena', 'Kvitova', 3, '301', 4.8),\n",
       " (5, 'Darya', 'Salnikova', 2, '202', 3.4),\n",
       " (6, 'Mishan', 'Aliev', 2, '203', 5),\n",
       " (7, 'Misha', 'Aviev', 2, '204', 4.7),\n",
       " (8, 'Masha', 'Aeva', 2, '205', 4.3),\n",
       " (9, 'Maria', 'Weva', 2, '205', 5.2)]"
      ]
     },
     "execution_count": 53,
     "metadata": {},
     "output_type": "execute_result"
    }
   ],
   "source": [
    "%%sql\n",
    "INSERT INTO Students(student_id, Name, SecondName, Faculty_id, StudyGroup, GPA) VALUES (6,'Mishan', 'Aliev', 2, '203', 5.0);\n",
    "INSERT INTO Students(student_id, Name, SecondName, Faculty_id, StudyGroup, GPA) VALUES (7,'Misha', 'Aviev', 2, '204', 4.7);\n",
    "INSERT INTO Students(student_id, Name, SecondName, Faculty_id, StudyGroup, GPA) VALUES (8,'Masha', 'Aeva', 2, '205', 4.3);\n",
    "INSERT INTO Students(student_id, Name, SecondName, Faculty_id, StudyGroup, GPA) VALUES (9,'Maria', 'Weva', 2, '205', 5.2);\n",
    "\n",
    "SELECT * from Students"
   ]
  },
  {
   "cell_type": "code",
   "execution_count": 54,
   "metadata": {},
   "outputs": [
    {
     "name": "stdout",
     "output_type": "stream",
     "text": [
      " * sqlite:///tst_1.db\n",
      "Done.\n"
     ]
    },
    {
     "data": {
      "text/html": [
       "<table>\n",
       "    <tr>\n",
       "        <th>fac_id</th>\n",
       "        <th>Name</th>\n",
       "    </tr>\n",
       "    <tr>\n",
       "        <td>1</td>\n",
       "        <td>KIB</td>\n",
       "    </tr>\n",
       "    <tr>\n",
       "        <td>2</td>\n",
       "        <td>IT</td>\n",
       "    </tr>\n",
       "    <tr>\n",
       "        <td>3</td>\n",
       "        <td>Economics</td>\n",
       "    </tr>\n",
       "</table>"
      ],
      "text/plain": [
       "[(1, 'KIB'), (2, 'IT'), (3, 'Economics')]"
      ]
     },
     "execution_count": 54,
     "metadata": {},
     "output_type": "execute_result"
    }
   ],
   "source": [
    "%%sql\n",
    "SELECT * \n",
    "FROM Faculties"
   ]
  },
  {
   "cell_type": "code",
   "execution_count": 56,
   "metadata": {},
   "outputs": [
    {
     "name": "stdout",
     "output_type": "stream",
     "text": [
      " * sqlite:///tst_1.db\n",
      "Done.\n"
     ]
    },
    {
     "data": {
      "text/html": [
       "<table>\n",
       "    <tr>\n",
       "        <th>Name</th>\n",
       "    </tr>\n",
       "    <tr>\n",
       "        <td>IT</td>\n",
       "    </tr>\n",
       "</table>"
      ],
      "text/plain": [
       "[('IT',)]"
      ]
     },
     "execution_count": 56,
     "metadata": {},
     "output_type": "execute_result"
    }
   ],
   "source": [
    "%%sql\n",
    "SELECT Faculties.name\n",
    "FROM Faculties\n",
    "JOIN Students ON Students.Faculty_id = Faculties.fac_id\n",
    "GROUP BY Faculties.name, Faculties.fac_id\n",
    "HAVING COUNT(DISTINCT Students.StudyGroup) > 3"
   ]
  },
  {
   "cell_type": "markdown",
   "metadata": {},
   "source": [
    "## Задание 6. Для всех факультетов вывести средний балл по факультету для студентов, чья фамилия не содержит в себе подстроку 'ov', при условии, что количество таких студентов на факультете не менее 3. В обратном случае, факультет выводить не требуется"
   ]
  },
  {
   "cell_type": "markdown",
   "metadata": {},
   "source": [
    " http://2sql.ru/ \n"
   ]
  },
  {
   "cell_type": "code",
   "execution_count": 57,
   "metadata": {},
   "outputs": [
    {
     "name": "stdout",
     "output_type": "stream",
     "text": [
      " * sqlite:///tst_1.db\n",
      "Done.\n"
     ]
    },
    {
     "data": {
      "text/html": [
       "<table>\n",
       "    <tr>\n",
       "        <th>Name</th>\n",
       "        <th>AVG(GPA)</th>\n",
       "    </tr>\n",
       "    <tr>\n",
       "        <td>IT</td>\n",
       "        <td>4.8</td>\n",
       "    </tr>\n",
       "</table>"
      ],
      "text/plain": [
       "[('IT', 4.8)]"
      ]
     },
     "execution_count": 57,
     "metadata": {},
     "output_type": "execute_result"
    }
   ],
   "source": [
    "%%sql\n",
    "SELECT Faculties.name, AVG(GPA)\n",
    "FROM Faculties\n",
    "JOIN Students ON Students.Faculty_id = Faculties.fac_id\n",
    "WHERE Students.SecondName NOT LIKE \"%ov%\"\n",
    "GROUP BY Faculties.fac_id, Faculties.name\n",
    "HAVING COUNT(DISTINCT Students.name) >= 3"
   ]
  }
 ],
 "metadata": {
  "kernelspec": {
   "display_name": "Python 3",
   "language": "python",
   "name": "python3"
  },
  "language_info": {
   "codemirror_mode": {
    "name": "ipython",
    "version": 3
   },
   "file_extension": ".py",
   "mimetype": "text/x-python",
   "name": "python",
   "nbconvert_exporter": "python",
   "pygments_lexer": "ipython3",
   "version": "3.7.3"
  }
 },
 "nbformat": 4,
 "nbformat_minor": 1
}
